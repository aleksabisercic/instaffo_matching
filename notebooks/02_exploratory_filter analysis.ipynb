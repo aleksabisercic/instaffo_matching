{
 "cells": [
  {
   "cell_type": "code",
   "execution_count": null,
   "metadata": {},
   "outputs": [],
   "source": [
    "!pip install -e .."
   ]
  },
  {
   "cell_type": "markdown",
   "metadata": {},
   "source": [
    "## Data Loading"
   ]
  },
  {
   "cell_type": "code",
   "execution_count": 2,
   "metadata": {},
   "outputs": [
    {
     "name": "stderr",
     "output_type": "stream",
     "text": [
      "c:\\Users\\Freedom\\Anaconda3\\envs\\srb_rec\\lib\\site-packages\\pandas\\core\\arrays\\masked.py:60: UserWarning: Pandas requires version '1.3.6' or newer of 'bottleneck' (version '1.3.5' currently installed).\n",
      "  from pandas.core import (\n"
     ]
    }
   ],
   "source": [
    "from instaffo_matching.data.loader import load_data, get_matching_dataframes\n",
    "from instaffo_matching.data.preprocessor import standardize_data\n",
    "\n",
    "import pandas as pd\n",
    "\n",
    "data = load_data(\"../data/data.json\")\n",
    "talent_df, job_df, labels_df = get_matching_dataframes(data=data)"
   ]
  },
  {
   "cell_type": "markdown",
   "metadata": {},
   "source": [
    "## Pre-Process Data and Deeper Anlysis"
   ]
  },
  {
   "cell_type": "code",
   "execution_count": 3,
   "metadata": {},
   "outputs": [],
   "source": [
    "# Encodes categorical variables (degree, seniority, languages) into numerical values.\n",
    "# This will be akin to ordinal encoding, preserves the relationships among categories\n",
    "# Normalizes the data for machine learning model compatibility.\n",
    "talent_df, job_df = standardize_data(talent_df, job_df)"
   ]
  },
  {
   "cell_type": "markdown",
   "metadata": {},
   "source": [
    "### Explore hypotesis that I can use some criteria as filters to nerrow down search"
   ]
  },
  {
   "cell_type": "code",
   "execution_count": 4,
   "metadata": {},
   "outputs": [
    {
     "name": "stdout",
     "output_type": "stream",
     "text": [
      "Hypotesis that all rows with label=True have all must_have criteria fulfilled: True\n",
      "\n",
      "Non-compliant reasons:\n",
      "['Salary expectation too high']\n"
     ]
    }
   ],
   "source": [
    "# Join the dataframes on index\n",
    "df = pd.concat([talent_df, job_df, labels_df], axis=1)\n",
    "\n",
    "# CHECK IF FILTERED DATAFRAME HAS ALL MUST_HAVE LANGUAGES\n",
    "def check_language_requirements(talent_df, job_df, labels_df):\n",
    "    \"\"\" This is to validate hypothesis that all candidates have all must_have languages \n",
    "    and that it can be a filter to select the best candidates\"\"\"\n",
    "    def rating_to_level(rating):\n",
    "        levels = {'A1': 1, 'A2': 2, 'B1': 3, 'B2': 4, 'C1': 5, 'C2': 6}\n",
    "        return levels.get(rating, 0)\n",
    "    \n",
    "    def has_required_languages(candidate_languages, job_languages):\n",
    "        candidate_dict = {lang['title']: rating_to_level(lang['rating']) for lang in candidate_languages}\n",
    "        for job_lang in job_languages:\n",
    "            if job_lang.get('must_have', False):\n",
    "                job_title = job_lang['title']\n",
    "                job_rating = rating_to_level(job_lang['rating'])\n",
    "                if candidate_dict.get(job_title, 0) < job_rating:\n",
    "                    return False\n",
    "        return True\n",
    "    \n",
    "    for index in labels_df[labels_df['label'] == True].index:\n",
    "        candidate_languages = talent_df.loc[index, 'languages']\n",
    "        job_languages = job_df.loc[index, 'languages']\n",
    "        if not has_required_languages(candidate_languages, job_languages):\n",
    "            return False\n",
    "    return True\n",
    "\n",
    "# Tun the check language requirement\n",
    "result = check_language_requirements(talent_df, job_df, labels_df)\n",
    "print(\"Hypotesis that all rows with label=True have all must_have criteria fulfilled:\", result)\n",
    "\n",
    "def check_compliance(talent_df, job_df, labels_df):\n",
    "    non_compliant_rows = []\n",
    "\n",
    "    for index, label in labels_df[labels_df['label'] == True].iterrows():\n",
    "        if not label['label']:\n",
    "            continue  # Skip if the label is not True\n",
    "\n",
    "        candidate = talent_df.loc[index]\n",
    "        job = job_df.loc[index]\n",
    "\n",
    "        # Check Salary\n",
    "        if candidate['salary_expectation'] > job['max_salary']:\n",
    "            non_compliant_rows.append({'index': index, 'reason': 'Salary expectation too high'})\n",
    "\n",
    "        # Check Job Roles\n",
    "        if not any(role in job['job_roles'] for role in candidate['job_roles']):\n",
    "            non_compliant_rows.append({'index': index, 'reason': 'No matching job roles'})\n",
    "\n",
    "        # Check Degree\n",
    "        if candidate['degree'] < job['min_degree']:\n",
    "            non_compliant_rows.append({'index': index, 'reason': 'Degree not sufficient'})\n",
    "\n",
    "        # Check Seniority - compare against all listed seniorities in the job description\n",
    "        candidate_seniority = candidate['seniority']\n",
    "        job_seniorities = job['seniorities']\n",
    "        if all(candidate_seniority < seniority for seniority in job_seniorities):\n",
    "            non_compliant_rows.append({'index': index, 'reason': 'Seniority not sufficient'})\n",
    "\n",
    "    return pd.DataFrame(non_compliant_rows)\n",
    "\n",
    "# Example usage of the check_compliance function\n",
    "non_compliant_df = check_compliance(talent_df, job_df, labels_df)\n",
    "print(\"\\nNon-compliant reasons:\")\n",
    "print(non_compliant_df.reason.unique())\n",
    "\n",
    "# Key findings for candidate filtering:\n",
    "# 1. Must-have languages, minimum degree, and minimum seniority are confirmed as effective filters.\n",
    "# 2. Salary expectations > max_salary occur in positive matches, suggesting it's not a strict disqualifier."
   ]
  },
  {
   "cell_type": "markdown",
   "metadata": {},
   "source": [
    "**Conclusion from above**\n",
    "\n",
    "1. Analysis indicates that salary expectations (salary expectations > max_salary) cannot disqualify a candidate and will not be used as filter to nerrow down search.\n",
    "2. However, criteria such as must-have languages, minimum degree requirements, and minimal seniority levels match prove effective for filtering candidates. These factors will directly narrow down candidate's list for a role."
   ]
  },
  {
   "cell_type": "code",
   "execution_count": 8,
   "metadata": {},
   "outputs": [
    {
     "name": "stderr",
     "output_type": "stream",
     "text": [
      "Error during prediction: 'salary_expectation'\n"
     ]
    },
    {
     "ename": "KeyError",
     "evalue": "'salary_expectation'",
     "output_type": "error",
     "traceback": [
      "\u001b[1;31m---------------------------------------------------------------------------\u001b[0m",
      "\u001b[1;31mKeyError\u001b[0m                                  Traceback (most recent call last)",
      "File \u001b[1;32mc:\\Users\\Freedom\\Anaconda3\\envs\\srb_rec\\lib\\site-packages\\pandas\\core\\indexes\\base.py:3805\u001b[0m, in \u001b[0;36mIndex.get_loc\u001b[1;34m(self, key)\u001b[0m\n\u001b[0;32m   3804\u001b[0m \u001b[38;5;28;01mtry\u001b[39;00m:\n\u001b[1;32m-> 3805\u001b[0m     \u001b[38;5;28;01mreturn\u001b[39;00m \u001b[38;5;28;43mself\u001b[39;49m\u001b[38;5;241;43m.\u001b[39;49m\u001b[43m_engine\u001b[49m\u001b[38;5;241;43m.\u001b[39;49m\u001b[43mget_loc\u001b[49m\u001b[43m(\u001b[49m\u001b[43mcasted_key\u001b[49m\u001b[43m)\u001b[49m\n\u001b[0;32m   3806\u001b[0m \u001b[38;5;28;01mexcept\u001b[39;00m \u001b[38;5;167;01mKeyError\u001b[39;00m \u001b[38;5;28;01mas\u001b[39;00m err:\n",
      "File \u001b[1;32mindex.pyx:167\u001b[0m, in \u001b[0;36mpandas._libs.index.IndexEngine.get_loc\u001b[1;34m()\u001b[0m\n",
      "File \u001b[1;32mindex.pyx:196\u001b[0m, in \u001b[0;36mpandas._libs.index.IndexEngine.get_loc\u001b[1;34m()\u001b[0m\n",
      "File \u001b[1;32mpandas\\\\_libs\\\\hashtable_class_helper.pxi:7081\u001b[0m, in \u001b[0;36mpandas._libs.hashtable.PyObjectHashTable.get_item\u001b[1;34m()\u001b[0m\n",
      "File \u001b[1;32mpandas\\\\_libs\\\\hashtable_class_helper.pxi:7089\u001b[0m, in \u001b[0;36mpandas._libs.hashtable.PyObjectHashTable.get_item\u001b[1;34m()\u001b[0m\n",
      "\u001b[1;31mKeyError\u001b[0m: 'salary_expectation'",
      "\nThe above exception was the direct cause of the following exception:\n",
      "\u001b[1;31mKeyError\u001b[0m                                  Traceback (most recent call last)",
      "Cell \u001b[1;32mIn[8], line 91\u001b[0m\n\u001b[0;32m     88\u001b[0m search \u001b[38;5;241m=\u001b[39m Search(\u001b[38;5;124m'\u001b[39m\u001b[38;5;124m../models_artifacts/model_03_08_2024.joblib\u001b[39m\u001b[38;5;124m'\u001b[39m)\n\u001b[0;32m     90\u001b[0m \u001b[38;5;66;03m# test the match function\u001b[39;00m\n\u001b[1;32m---> 91\u001b[0m result \u001b[38;5;241m=\u001b[39m \u001b[43msearch\u001b[49m\u001b[38;5;241;43m.\u001b[39;49m\u001b[43mmatch\u001b[49m\u001b[43m(\u001b[49m\u001b[43mtalent_df\u001b[49m\u001b[38;5;241;43m.\u001b[39;49m\u001b[43miloc\u001b[49m\u001b[43m[\u001b[49m\u001b[38;5;241;43m0\u001b[39;49m\u001b[43m]\u001b[49m\u001b[38;5;241;43m.\u001b[39;49m\u001b[43mto_dict\u001b[49m\u001b[43m(\u001b[49m\u001b[43m)\u001b[49m\u001b[43m,\u001b[49m\u001b[43m \u001b[49m\u001b[43mjob_df\u001b[49m\u001b[38;5;241;43m.\u001b[39;49m\u001b[43miloc\u001b[49m\u001b[43m[\u001b[49m\u001b[38;5;241;43m0\u001b[39;49m\u001b[43m]\u001b[49m\u001b[38;5;241;43m.\u001b[39;49m\u001b[43mto_dict\u001b[49m\u001b[43m(\u001b[49m\u001b[43m)\u001b[49m\u001b[43m)\u001b[49m\n\u001b[0;32m     92\u001b[0m \u001b[38;5;28mprint\u001b[39m(result)\n\u001b[0;32m     94\u001b[0m \u001b[38;5;66;03m# test the match_bulk function\u001b[39;00m\n",
      "File \u001b[1;32m~\\Documents\\0.GitHub\\__INOVICE__\\instaffo_matching\\instaffo_matching\\utils\\metrics.py:9\u001b[0m, in \u001b[0;36mtiming_decorator.<locals>.wrapper\u001b[1;34m(*args, **kwargs)\u001b[0m\n\u001b[0;32m      7\u001b[0m \u001b[38;5;28;01mdef\u001b[39;00m \u001b[38;5;21mwrapper\u001b[39m(\u001b[38;5;241m*\u001b[39margs, \u001b[38;5;241m*\u001b[39m\u001b[38;5;241m*\u001b[39mkwargs):\n\u001b[0;32m      8\u001b[0m     start_time \u001b[38;5;241m=\u001b[39m time\u001b[38;5;241m.\u001b[39mtime()\n\u001b[1;32m----> 9\u001b[0m     result \u001b[38;5;241m=\u001b[39m func(\u001b[38;5;241m*\u001b[39margs, \u001b[38;5;241m*\u001b[39m\u001b[38;5;241m*\u001b[39mkwargs)\n\u001b[0;32m     10\u001b[0m     end_time \u001b[38;5;241m=\u001b[39m time\u001b[38;5;241m.\u001b[39mtime()\n\u001b[0;32m     11\u001b[0m     elapsed_time \u001b[38;5;241m=\u001b[39m end_time \u001b[38;5;241m-\u001b[39m start_time\n",
      "Cell \u001b[1;32mIn[8], line 45\u001b[0m, in \u001b[0;36mSearch.match\u001b[1;34m(self, talent, job)\u001b[0m\n\u001b[0;32m     43\u001b[0m talent_df \u001b[38;5;241m=\u001b[39m pd\u001b[38;5;241m.\u001b[39mDataFrame([talent])\n\u001b[0;32m     44\u001b[0m job_df, talent_df \u001b[38;5;241m=\u001b[39m standardize_data(talent_df, job_df)\n\u001b[1;32m---> 45\u001b[0m label, ranking_score \u001b[38;5;241m=\u001b[39m \u001b[38;5;28;43mself\u001b[39;49m\u001b[38;5;241;43m.\u001b[39;49m\u001b[43mranker\u001b[49m\u001b[38;5;241;43m.\u001b[39;49m\u001b[43mpredict\u001b[49m\u001b[43m(\u001b[49m\u001b[43mjob\u001b[49m\u001b[38;5;241;43m=\u001b[39;49m\u001b[43mjob_df\u001b[49m\u001b[43m,\u001b[49m\u001b[43m \u001b[49m\u001b[43mtalent\u001b[49m\u001b[38;5;241;43m=\u001b[39;49m\u001b[43mtalent_df\u001b[49m\u001b[43m)\u001b[49m\n\u001b[0;32m     47\u001b[0m \u001b[38;5;28;01mreturn\u001b[39;00m {\n\u001b[0;32m     48\u001b[0m     \u001b[38;5;124m\"\u001b[39m\u001b[38;5;124mtalent\u001b[39m\u001b[38;5;124m\"\u001b[39m: talent,\n\u001b[0;32m     49\u001b[0m     \u001b[38;5;124m\"\u001b[39m\u001b[38;5;124mjob\u001b[39m\u001b[38;5;124m\"\u001b[39m: job,\n\u001b[0;32m     50\u001b[0m     \u001b[38;5;124m\"\u001b[39m\u001b[38;5;124mlabel\u001b[39m\u001b[38;5;124m\"\u001b[39m: \u001b[38;5;28mbool\u001b[39m(label),\n\u001b[0;32m     51\u001b[0m     \u001b[38;5;124m\"\u001b[39m\u001b[38;5;124mscore\u001b[39m\u001b[38;5;124m\"\u001b[39m: \u001b[38;5;28mfloat\u001b[39m(ranking_score),\n\u001b[0;32m     52\u001b[0m }\n",
      "File \u001b[1;32m~\\Documents\\0.GitHub\\__INOVICE__\\instaffo_matching\\instaffo_matching\\models\\ranker.py:224\u001b[0m, in \u001b[0;36mTalentJobRanker.predict\u001b[1;34m(self, job, talent)\u001b[0m\n\u001b[0;32m    204\u001b[0m \u001b[38;5;250m\u001b[39m\u001b[38;5;124;03m\"\"\"\u001b[39;00m\n\u001b[0;32m    205\u001b[0m \u001b[38;5;124;03mSynchronously predicts the match label and score for given talent and job profiles.\u001b[39;00m\n\u001b[0;32m    206\u001b[0m \n\u001b[1;32m   (...)\u001b[0m\n\u001b[0;32m    220\u001b[0m \u001b[38;5;124;03m    Match: True, Score: 0.85\u001b[39;00m\n\u001b[0;32m    221\u001b[0m \u001b[38;5;124;03m\"\"\"\u001b[39;00m\n\u001b[0;32m    222\u001b[0m \u001b[38;5;28;01mtry\u001b[39;00m:\n\u001b[0;32m    223\u001b[0m     \u001b[38;5;66;03m# Directly call the synchronous methods\u001b[39;00m\n\u001b[1;32m--> 224\u001b[0m     features \u001b[38;5;241m=\u001b[39m \u001b[38;5;28;43mself\u001b[39;49m\u001b[38;5;241;43m.\u001b[39;49m\u001b[43m_transform_input\u001b[49m\u001b[43m(\u001b[49m\u001b[43mjob\u001b[49m\u001b[43m,\u001b[49m\u001b[43m \u001b[49m\u001b[43mtalent\u001b[49m\u001b[43m)\u001b[49m\n\u001b[0;32m    225\u001b[0m     labels \u001b[38;5;241m=\u001b[39m \u001b[38;5;28mself\u001b[39m\u001b[38;5;241m.\u001b[39mmodel_strategy\u001b[38;5;241m.\u001b[39mpredict(features)\n\u001b[0;32m    226\u001b[0m     scores \u001b[38;5;241m=\u001b[39m \u001b[38;5;28mself\u001b[39m\u001b[38;5;241m.\u001b[39mmodel_strategy\u001b[38;5;241m.\u001b[39mpredict_proba(features)\n",
      "File \u001b[1;32m~\\Documents\\0.GitHub\\__INOVICE__\\instaffo_matching\\instaffo_matching\\models\\ranker.py:248\u001b[0m, in \u001b[0;36mTalentJobRanker._transform_input\u001b[1;34m(self, talent, job)\u001b[0m\n\u001b[0;32m    237\u001b[0m \u001b[38;5;28;01mdef\u001b[39;00m \u001b[38;5;21m_transform_input\u001b[39m(\u001b[38;5;28mself\u001b[39m, talent: pd\u001b[38;5;241m.\u001b[39mDataFrame, job: pd\u001b[38;5;241m.\u001b[39mDataFrame) \u001b[38;5;241m-\u001b[39m\u001b[38;5;241m>\u001b[39m np\u001b[38;5;241m.\u001b[39mndarray:\n\u001b[0;32m    238\u001b[0m \u001b[38;5;250m    \u001b[39m\u001b[38;5;124;03m\"\"\"\u001b[39;00m\n\u001b[0;32m    239\u001b[0m \u001b[38;5;124;03m    Transforms the input talent and job profiles into the feature format required by the model.\u001b[39;00m\n\u001b[0;32m    240\u001b[0m \n\u001b[1;32m   (...)\u001b[0m\n\u001b[0;32m    246\u001b[0m \u001b[38;5;124;03m        np.ndarray: The transformed feature matrix.\u001b[39;00m\n\u001b[0;32m    247\u001b[0m \u001b[38;5;124;03m    \"\"\"\u001b[39;00m\n\u001b[1;32m--> 248\u001b[0m     \u001b[38;5;28;01mreturn\u001b[39;00m \u001b[38;5;28;43mself\u001b[39;49m\u001b[38;5;241;43m.\u001b[39;49m\u001b[43mfeature_engineer\u001b[49m\u001b[38;5;241;43m.\u001b[39;49m\u001b[43mtransform\u001b[49m\u001b[43m(\u001b[49m\u001b[43mtalent\u001b[49m\u001b[43m,\u001b[49m\u001b[43m \u001b[49m\u001b[43mjob\u001b[49m\u001b[43m)\u001b[49m\n",
      "File \u001b[1;32m~\\Documents\\0.GitHub\\__INOVICE__\\instaffo_matching\\instaffo_matching\\features\\engineer.py:119\u001b[0m, in \u001b[0;36mFeatureEngineer.transform\u001b[1;34m(self, job_df, talent_df)\u001b[0m\n\u001b[0;32m    108\u001b[0m \u001b[38;5;28;01mdef\u001b[39;00m \u001b[38;5;21mtransform\u001b[39m(\u001b[38;5;28mself\u001b[39m, job_df: pd\u001b[38;5;241m.\u001b[39mDataFrame, talent_df: pd\u001b[38;5;241m.\u001b[39mDataFrame) \u001b[38;5;241m-\u001b[39m\u001b[38;5;241m>\u001b[39m np\u001b[38;5;241m.\u001b[39mndarray:\n\u001b[0;32m    109\u001b[0m \u001b[38;5;250m    \u001b[39m\u001b[38;5;124;03m\"\"\"\u001b[39;00m\n\u001b[0;32m    110\u001b[0m \u001b[38;5;124;03m    Transforms the data using the fitted preprocessor and vectorizer.\u001b[39;00m\n\u001b[0;32m    111\u001b[0m \n\u001b[1;32m   (...)\u001b[0m\n\u001b[0;32m    117\u001b[0m \u001b[38;5;124;03m        np.ndarray: Transformed feature matrix.\u001b[39;00m\n\u001b[0;32m    118\u001b[0m \u001b[38;5;124;03m    \"\"\"\u001b[39;00m\n\u001b[1;32m--> 119\u001b[0m     features, categorical_features \u001b[38;5;241m=\u001b[39m \u001b[38;5;28;43mself\u001b[39;49m\u001b[38;5;241;43m.\u001b[39;49m\u001b[43mengineer_features\u001b[49m\u001b[43m(\u001b[49m\u001b[43mjob_df\u001b[49m\u001b[43m,\u001b[49m\u001b[43m \u001b[49m\u001b[43mtalent_df\u001b[49m\u001b[43m)\u001b[49m\n\u001b[0;32m    120\u001b[0m     combined_features \u001b[38;5;241m=\u001b[39m np\u001b[38;5;241m.\u001b[39mhstack((features, categorical_features))\n\u001b[0;32m    121\u001b[0m     \u001b[38;5;28;01mreturn\u001b[39;00m \u001b[38;5;28mself\u001b[39m\u001b[38;5;241m.\u001b[39mpreprocessor\u001b[38;5;241m.\u001b[39mtransform(combined_features)\n",
      "File \u001b[1;32m~\\Documents\\0.GitHub\\__INOVICE__\\instaffo_matching\\instaffo_matching\\features\\engineer.py:169\u001b[0m, in \u001b[0;36mFeatureEngineer.engineer_features\u001b[1;34m(self, job_df, talent_df)\u001b[0m\n\u001b[0;32m    166\u001b[0m role_similarity \u001b[38;5;241m=\u001b[39m \u001b[38;5;28mself\u001b[39m\u001b[38;5;241m.\u001b[39m_calculate_role_similarity(talent_roles, job_roles)\n\u001b[0;32m    168\u001b[0m \u001b[38;5;66;03m# Salary expectation features\u001b[39;00m\n\u001b[1;32m--> 169\u001b[0m salary_ratio \u001b[38;5;241m=\u001b[39m \u001b[43mtalent\u001b[49m\u001b[43m[\u001b[49m\u001b[38;5;124;43m\"\u001b[39;49m\u001b[38;5;124;43msalary_expectation\u001b[39;49m\u001b[38;5;124;43m\"\u001b[39;49m\u001b[43m]\u001b[49m \u001b[38;5;241m/\u001b[39m job[\u001b[38;5;124m\"\u001b[39m\u001b[38;5;124mmax_salary\u001b[39m\u001b[38;5;124m\"\u001b[39m]\n\u001b[0;32m    170\u001b[0m salary_comparison \u001b[38;5;241m=\u001b[39m \u001b[38;5;241m1\u001b[39m \u001b[38;5;28;01mif\u001b[39;00m talent[\u001b[38;5;124m\"\u001b[39m\u001b[38;5;124msalary_expectation\u001b[39m\u001b[38;5;124m\"\u001b[39m] \u001b[38;5;241m>\u001b[39m job[\u001b[38;5;124m\"\u001b[39m\u001b[38;5;124mmax_salary\u001b[39m\u001b[38;5;124m\"\u001b[39m] \u001b[38;5;28;01melse\u001b[39;00m \u001b[38;5;241m0\u001b[39m\n\u001b[0;32m    171\u001b[0m salary_difference_percentage \u001b[38;5;241m=\u001b[39m (\n\u001b[0;32m    172\u001b[0m     talent[\u001b[38;5;124m\"\u001b[39m\u001b[38;5;124msalary_expectation\u001b[39m\u001b[38;5;124m\"\u001b[39m] \u001b[38;5;241m-\u001b[39m job[\u001b[38;5;124m\"\u001b[39m\u001b[38;5;124mmax_salary\u001b[39m\u001b[38;5;124m\"\u001b[39m]\n\u001b[0;32m    173\u001b[0m ) \u001b[38;5;241m/\u001b[39m job[\u001b[38;5;124m\"\u001b[39m\u001b[38;5;124mmax_salary\u001b[39m\u001b[38;5;124m\"\u001b[39m]\n",
      "File \u001b[1;32mc:\\Users\\Freedom\\Anaconda3\\envs\\srb_rec\\lib\\site-packages\\pandas\\core\\series.py:1121\u001b[0m, in \u001b[0;36mSeries.__getitem__\u001b[1;34m(self, key)\u001b[0m\n\u001b[0;32m   1118\u001b[0m     \u001b[38;5;28;01mreturn\u001b[39;00m \u001b[38;5;28mself\u001b[39m\u001b[38;5;241m.\u001b[39m_values[key]\n\u001b[0;32m   1120\u001b[0m \u001b[38;5;28;01melif\u001b[39;00m key_is_scalar:\n\u001b[1;32m-> 1121\u001b[0m     \u001b[38;5;28;01mreturn\u001b[39;00m \u001b[38;5;28;43mself\u001b[39;49m\u001b[38;5;241;43m.\u001b[39;49m\u001b[43m_get_value\u001b[49m\u001b[43m(\u001b[49m\u001b[43mkey\u001b[49m\u001b[43m)\u001b[49m\n\u001b[0;32m   1123\u001b[0m \u001b[38;5;66;03m# Convert generator to list before going through hashable part\u001b[39;00m\n\u001b[0;32m   1124\u001b[0m \u001b[38;5;66;03m# (We will iterate through the generator there to check for slices)\u001b[39;00m\n\u001b[0;32m   1125\u001b[0m \u001b[38;5;28;01mif\u001b[39;00m is_iterator(key):\n",
      "File \u001b[1;32mc:\\Users\\Freedom\\Anaconda3\\envs\\srb_rec\\lib\\site-packages\\pandas\\core\\series.py:1237\u001b[0m, in \u001b[0;36mSeries._get_value\u001b[1;34m(self, label, takeable)\u001b[0m\n\u001b[0;32m   1234\u001b[0m     \u001b[38;5;28;01mreturn\u001b[39;00m \u001b[38;5;28mself\u001b[39m\u001b[38;5;241m.\u001b[39m_values[label]\n\u001b[0;32m   1236\u001b[0m \u001b[38;5;66;03m# Similar to Index.get_value, but we do not fall back to positional\u001b[39;00m\n\u001b[1;32m-> 1237\u001b[0m loc \u001b[38;5;241m=\u001b[39m \u001b[38;5;28;43mself\u001b[39;49m\u001b[38;5;241;43m.\u001b[39;49m\u001b[43mindex\u001b[49m\u001b[38;5;241;43m.\u001b[39;49m\u001b[43mget_loc\u001b[49m\u001b[43m(\u001b[49m\u001b[43mlabel\u001b[49m\u001b[43m)\u001b[49m\n\u001b[0;32m   1239\u001b[0m \u001b[38;5;28;01mif\u001b[39;00m is_integer(loc):\n\u001b[0;32m   1240\u001b[0m     \u001b[38;5;28;01mreturn\u001b[39;00m \u001b[38;5;28mself\u001b[39m\u001b[38;5;241m.\u001b[39m_values[loc]\n",
      "File \u001b[1;32mc:\\Users\\Freedom\\Anaconda3\\envs\\srb_rec\\lib\\site-packages\\pandas\\core\\indexes\\base.py:3812\u001b[0m, in \u001b[0;36mIndex.get_loc\u001b[1;34m(self, key)\u001b[0m\n\u001b[0;32m   3807\u001b[0m     \u001b[38;5;28;01mif\u001b[39;00m \u001b[38;5;28misinstance\u001b[39m(casted_key, \u001b[38;5;28mslice\u001b[39m) \u001b[38;5;129;01mor\u001b[39;00m (\n\u001b[0;32m   3808\u001b[0m         \u001b[38;5;28misinstance\u001b[39m(casted_key, abc\u001b[38;5;241m.\u001b[39mIterable)\n\u001b[0;32m   3809\u001b[0m         \u001b[38;5;129;01mand\u001b[39;00m \u001b[38;5;28many\u001b[39m(\u001b[38;5;28misinstance\u001b[39m(x, \u001b[38;5;28mslice\u001b[39m) \u001b[38;5;28;01mfor\u001b[39;00m x \u001b[38;5;129;01min\u001b[39;00m casted_key)\n\u001b[0;32m   3810\u001b[0m     ):\n\u001b[0;32m   3811\u001b[0m         \u001b[38;5;28;01mraise\u001b[39;00m InvalidIndexError(key)\n\u001b[1;32m-> 3812\u001b[0m     \u001b[38;5;28;01mraise\u001b[39;00m \u001b[38;5;167;01mKeyError\u001b[39;00m(key) \u001b[38;5;28;01mfrom\u001b[39;00m \u001b[38;5;21;01merr\u001b[39;00m\n\u001b[0;32m   3813\u001b[0m \u001b[38;5;28;01mexcept\u001b[39;00m \u001b[38;5;167;01mTypeError\u001b[39;00m:\n\u001b[0;32m   3814\u001b[0m     \u001b[38;5;66;03m# If we have a listlike key, _check_indexing_error will raise\u001b[39;00m\n\u001b[0;32m   3815\u001b[0m     \u001b[38;5;66;03m#  InvalidIndexError. Otherwise we fall through and re-raise\u001b[39;00m\n\u001b[0;32m   3816\u001b[0m     \u001b[38;5;66;03m#  the TypeError.\u001b[39;00m\n\u001b[0;32m   3817\u001b[0m     \u001b[38;5;28mself\u001b[39m\u001b[38;5;241m.\u001b[39m_check_indexing_error(key)\n",
      "\u001b[1;31mKeyError\u001b[0m: 'salary_expectation'"
     ]
    }
   ],
   "source": [
    "# src/search/search.py\n",
    "\n",
    "import asyncio\n",
    "from typing import List, Dict\n",
    "from instaffo_matching.models.retriver import CandidateFilter \n",
    "from instaffo_matching.models.ranker import TalentJobRanker\n",
    "from instaffo_matching.data.loader import load_data, get_matching_dataframes\n",
    "from instaffo_matching.data.preprocessor import standardize_data\n",
    "\n",
    "from instaffo_matching.utils.metrics import timing_decorator\n",
    "#from instaffo_matching.search.cache import SearchCache\n",
    "from instaffo_matching.data.loader import load_data, get_matching_dataframes\n",
    "\n",
    "\n",
    "import logging\n",
    "\n",
    "logger = logging.getLogger(__name__)\n",
    "\n",
    "\n",
    "\n",
    "class Search:\n",
    "    def __init__(self, model_path: str = '../models_artifacts/model_03_08_2024.joblib'):\n",
    "        self.ranker = TalentJobRanker(model_path)\n",
    "        self.filter = CandidateFilter()\n",
    "        # self.cache = SearchCache()\n",
    "\n",
    "    @timing_decorator\n",
    "    def match(self, talent: Dict, job: Dict) -> Dict:\n",
    "        # in notebooks/02_exploratory_filter analysis was found that the following \n",
    "        # filters can be applied to reduce the number of candidates\n",
    "        if not self.filter.meets_language_requirements(talent['languages'], job['languages']) or \\\n",
    "           not self.filter.degree_sufficient(talent['degree'], job['min_degree']) or \\\n",
    "           not self.filter.seniority_sufficient(talent['seniority'], job['seniorities']):\n",
    "            return {\n",
    "                \"talent\": talent,\n",
    "                \"job\": job,\n",
    "                \"label\": False,\n",
    "                \"score\": 0.0,\n",
    "            }\n",
    "\n",
    "        # If the talent passes the initial filter, proceed with the full matching process\n",
    "        job_df = pd.DataFrame([job])\n",
    "        talent_df = pd.DataFrame([talent])\n",
    "        job_df, talent_df = standardize_data(talent_df, job_df)\n",
    "        label, ranking_score = self.ranker.predict(job=job_df, talent=talent_df)\n",
    "\n",
    "        return {\n",
    "            \"talent\": talent,\n",
    "            \"job\": job,\n",
    "            \"label\": bool(label),\n",
    "            \"score\": float(ranking_score),\n",
    "        }\n",
    "\n",
    "    @timing_decorator\n",
    "    async def match_bulk(self, talents: List[Dict], jobs: List[Dict]) -> List[Dict]:\n",
    "        async def match_combination(talent, job):\n",
    "            return self.match(talent, job)\n",
    "\n",
    "        all_results = []\n",
    "        for job in jobs:\n",
    "            filtered_talents = self.filter.filter_candidates(job, talents)\n",
    "            tasks = [match_combination(talent, job) for talent in filtered_talents]\n",
    "            job_results = await asyncio.gather(*tasks)\n",
    "            all_results.extend(job_results)\n",
    "\n",
    "        return sorted(all_results, key=lambda x: x['score'], reverse=True)\n",
    "\n",
    "    def warm_up_cache(self, talents: List[Dict], jobs: List[Dict]):\n",
    "        \"\"\"Pre-compute and cache results for common queries\"\"\"\n",
    "        for talent in talents[:100]:  # Limit to top 100 talents for example\n",
    "            for job in jobs[:100]:  # Limit to top 100 jobs\n",
    "                self.match(talent, job)\n",
    "\n",
    "    def update_model(self, new_model_path: str):\n",
    "        \"\"\"Hot-swap the model without downtime\"\"\"\n",
    "        new_ranker = TalentJobRanker(new_model_path)\n",
    "        self.ranker = new_ranker\n",
    "        logger.info(f\"Model updated to {new_model_path}\")\n",
    "        self.cache.clear()  # Clear cache when model is updated\n",
    "        logger.info(f\"Model updated to {new_model_path}\")\n",
    "        \n",
    "        \n",
    "# lets test this \n",
    "\n",
    "data = load_data(\"../data/data.json\")\n",
    "talent_df, job_df, labels_df = get_matching_dataframes(data=data)\n",
    "\n",
    "search = Search('../models_artifacts/model_03_08_2024.joblib')\n",
    "\n",
    "# test the match function\n",
    "result = search.match(talent=talent_df.iloc[0].to_dict(), job=job_df.iloc[0].to_dict())\n",
    "print(result)\n",
    "\n",
    "# test the match_bulk function\n",
    "results = asyncio.run(search.match_bulk(talent_df.head(100).to_dict(orient='records'), \n",
    "                                        job_df.head(100).to_dict(orient='records')))\n",
    "    \n"
   ]
  },
  {
   "cell_type": "code",
   "execution_count": null,
   "metadata": {},
   "outputs": [],
   "source": []
  },
  {
   "cell_type": "code",
   "execution_count": null,
   "metadata": {},
   "outputs": [],
   "source": []
  }
 ],
 "metadata": {
  "kernelspec": {
   "display_name": "srb_rec",
   "language": "python",
   "name": "python3"
  },
  "language_info": {
   "codemirror_mode": {
    "name": "ipython",
    "version": 3
   },
   "file_extension": ".py",
   "mimetype": "text/x-python",
   "name": "python",
   "nbconvert_exporter": "python",
   "pygments_lexer": "ipython3",
   "version": "3.10.9"
  }
 },
 "nbformat": 4,
 "nbformat_minor": 2
}
