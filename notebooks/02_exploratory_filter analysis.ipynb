{
 "cells": [
  {
   "cell_type": "code",
   "execution_count": null,
   "metadata": {},
   "outputs": [],
   "source": [
    "!pip install -e ..[dev]"
   ]
  },
  {
   "cell_type": "markdown",
   "metadata": {},
   "source": [
    "## Data Loading"
   ]
  },
  {
   "cell_type": "code",
   "execution_count": null,
   "metadata": {},
   "outputs": [],
   "source": [
    "from instaffo_matching.data.loader import load_data, get_matching_dataframes\n",
    "from instaffo_matching.data.preprocessor import standardize_data\n",
    "\n",
    "import pandas as pd\n",
    "\n",
    "data = load_data(\"../data/data.json\")\n",
    "talent_df, job_df, labels_df = get_matching_dataframes(data=data)"
   ]
  },
  {
   "cell_type": "markdown",
   "metadata": {},
   "source": [
    "## Pre-Process Data and Deeper Anlysis"
   ]
  },
  {
   "cell_type": "code",
   "execution_count": 2,
   "metadata": {},
   "outputs": [],
   "source": [
    "# Encodes categorical variables (degree, seniority, languages) into numerical values.\n",
    "# This will be akin to ordinal encoding, preserves the relationships among categories\n",
    "# Normalizes the data for machine learning model compatibility.\n",
    "talent_df, job_df = standardize_data(talent_df, job_df)"
   ]
  },
  {
   "cell_type": "markdown",
   "metadata": {},
   "source": [
    "### Explore hypotesis that I can use some criteria as filters to nerrow down search"
   ]
  },
  {
   "cell_type": "code",
   "execution_count": 3,
   "metadata": {},
   "outputs": [
    {
     "name": "stdout",
     "output_type": "stream",
     "text": [
      "Hypotesis that all rows with label=True have all must_have criteria fulfilled: True\n",
      "\n",
      "Non-compliant reasons:\n",
      "['Salary expectation too high']\n"
     ]
    }
   ],
   "source": [
    "# Join the dataframes on index\n",
    "df = pd.concat([talent_df, job_df, labels_df], axis=1)\n",
    "\n",
    "# CHECK IF FILTERED DATAFRAME HAS ALL MUST_HAVE LANGUAGES\n",
    "def check_language_requirements(talent_df, job_df, labels_df):\n",
    "    \"\"\" This is to validate hypothesis that all candidates have all must_have languages \n",
    "    and that it can be a filter to select the best candidates\"\"\"\n",
    "    def rating_to_level(rating):\n",
    "        levels = {'A1': 1, 'A2': 2, 'B1': 3, 'B2': 4, 'C1': 5, 'C2': 6}\n",
    "        return levels.get(rating, 0)\n",
    "    \n",
    "    def has_required_languages(candidate_languages, job_languages):\n",
    "        candidate_dict = {lang['title']: rating_to_level(lang['rating']) for lang in candidate_languages}\n",
    "        for job_lang in job_languages:\n",
    "            if job_lang.get('must_have', False):\n",
    "                job_title = job_lang['title']\n",
    "                job_rating = rating_to_level(job_lang['rating'])\n",
    "                if candidate_dict.get(job_title, 0) < job_rating:\n",
    "                    return False\n",
    "        return True\n",
    "    \n",
    "    for index in labels_df[labels_df['label'] == True].index:\n",
    "        candidate_languages = talent_df.loc[index, 'languages']\n",
    "        job_languages = job_df.loc[index, 'languages']\n",
    "        if not has_required_languages(candidate_languages, job_languages):\n",
    "            return False\n",
    "    return True\n",
    "\n",
    "# Tun the check language requirement\n",
    "result = check_language_requirements(talent_df, job_df, labels_df)\n",
    "print(\"Hypotesis that all rows with label=True have all must_have criteria fulfilled:\", result)\n",
    "\n",
    "def check_compliance(talent_df, job_df, labels_df):\n",
    "    non_compliant_rows = []\n",
    "\n",
    "    for index, label in labels_df[labels_df['label'] == True].iterrows():\n",
    "        if not label['label']:\n",
    "            continue  # Skip if the label is not True\n",
    "\n",
    "        candidate = talent_df.loc[index]\n",
    "        job = job_df.loc[index]\n",
    "\n",
    "        # Check Salary\n",
    "        if candidate['salary_expectation'] > job['max_salary']:\n",
    "            non_compliant_rows.append({'index': index, 'reason': 'Salary expectation too high'})\n",
    "\n",
    "        # Check Job Roles\n",
    "        if not any(role in job['job_roles'] for role in candidate['job_roles']):\n",
    "            non_compliant_rows.append({'index': index, 'reason': 'No matching job roles'})\n",
    "\n",
    "        # Check Degree\n",
    "        if candidate['degree'] < job['min_degree']:\n",
    "            non_compliant_rows.append({'index': index, 'reason': 'Degree not sufficient'})\n",
    "\n",
    "        # Check Seniority - compare against all listed seniorities in the job description\n",
    "        candidate_seniority = candidate['seniority']\n",
    "        job_seniorities = job['seniorities']\n",
    "        if all(candidate_seniority < seniority for seniority in job_seniorities):\n",
    "            non_compliant_rows.append({'index': index, 'reason': 'Seniority not sufficient'})\n",
    "\n",
    "    return pd.DataFrame(non_compliant_rows)\n",
    "\n",
    "# Example usage of the check_compliance function\n",
    "non_compliant_df = check_compliance(talent_df, job_df, labels_df)\n",
    "print(\"\\nNon-compliant reasons:\")\n",
    "print(non_compliant_df.reason.unique())\n",
    "\n",
    "# Only salary too high for job found that it cannot be a filter since it is not a must have\n",
    "# but we can filter by max salary, must_have_laganuge, degree and seniority"
   ]
  },
  {
   "cell_type": "markdown",
   "metadata": {},
   "source": [
    "**Conclusion from above**\n",
    "\n",
    "1. Analysis indicates that salary expectations (salary expectations > max_salary) cannot disqualify a candidate and will not be used as filter to nerrow down search.\n",
    "2. However, criteria such as must-have languages, minimum degree requirements, and minimal seniority levels match prove effective for filtering candidates. These factors will directly narrow down candidate's list for a role."
   ]
  }
 ],
 "metadata": {
  "kernelspec": {
   "display_name": "srb_rec",
   "language": "python",
   "name": "python3"
  },
  "language_info": {
   "codemirror_mode": {
    "name": "ipython",
    "version": 3
   },
   "file_extension": ".py",
   "mimetype": "text/x-python",
   "name": "python",
   "nbconvert_exporter": "python",
   "pygments_lexer": "ipython3",
   "version": "3.10.9"
  }
 },
 "nbformat": 4,
 "nbformat_minor": 2
}
