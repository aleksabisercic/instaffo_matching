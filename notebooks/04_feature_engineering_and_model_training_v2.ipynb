{
 "cells": [
  {
   "cell_type": "code",
   "execution_count": null,
   "metadata": {},
   "outputs": [],
   "source": [
    "!pip install -e ."
   ]
  },
  {
   "cell_type": "code",
   "execution_count": 2,
   "metadata": {},
   "outputs": [
    {
     "name": "stderr",
     "output_type": "stream",
     "text": [
      "c:\\Users\\Freedom\\Anaconda3\\envs\\srb_rec\\lib\\site-packages\\pandas\\core\\arrays\\masked.py:60: UserWarning: Pandas requires version '1.3.6' or newer of 'bottleneck' (version '1.3.5' currently installed).\n",
      "  from pandas.core import (\n"
     ]
    }
   ],
   "source": [
    "import datetime\n",
    "\n",
    "from instaffo_matching.utils.logging import setup_logger\n",
    "from instaffo_matching.data.loader import load_data, get_matching_dataframes\n",
    "from instaffo_matching.data.preprocessor import standardize_data\n",
    "from instaffo_matching.models.ranker import TalentJobRanker"
   ]
  },
  {
   "cell_type": "code",
   "execution_count": 3,
   "metadata": {},
   "outputs": [],
   "source": [
    "# Set up logger\n",
    "logger = setup_logger()"
   ]
  },
  {
   "cell_type": "code",
   "execution_count": 4,
   "metadata": {},
   "outputs": [],
   "source": [
    "# Load data\n",
    "data = load_data(\"../data/data.json\")\n",
    "talent_df, job_df, labels_df = get_matching_dataframes(data=data)"
   ]
  },
  {
   "cell_type": "code",
   "execution_count": 5,
   "metadata": {},
   "outputs": [
    {
     "name": "stdout",
     "output_type": "stream",
     "text": [
      "2024-08-03 18:24:27 INFO [258458891.py:3]: Data cleaned successfully\n"
     ]
    }
   ],
   "source": [
    "# Clean / Preprocess data\n",
    "talent_df, job_df = standardize_data(talent_df, job_df)\n",
    "logger.info(\"Data cleaned successfully\")"
   ]
  },
  {
   "cell_type": "code",
   "execution_count": 6,
   "metadata": {},
   "outputs": [
    {
     "name": "stdout",
     "output_type": "stream",
     "text": [
      "2024-08-03 18:24:27 INFO [ranker.py:91]: Initialized a new GradientBoostingStrategy model and FeatureEngineer.\n",
      "2024-08-03 18:24:27 INFO [ranker.py:147]: Starting training process.\n",
      "2024-08-03 18:24:52 INFO [ranker.py:189]: Model training completed.\n",
      "2024-08-03 18:24:52 INFO [ranker.py:200]: Confusion Matrix:\n",
      "[[199   1]\n",
      " [  2 198]]\n",
      "2024-08-03 18:24:52 INFO [ranker.py:201]: Classification Report:\n",
      "              precision    recall  f1-score   support\n",
      "\n",
      "       False       0.99      0.99      0.99       200\n",
      "        True       0.99      0.99      0.99       200\n",
      "\n",
      "    accuracy                           0.99       400\n",
      "   macro avg       0.99      0.99      0.99       400\n",
      "weighted avg       0.99      0.99      0.99       400\n",
      "\n",
      "2024-08-03 18:24:52 INFO [2178404414.py:3]: Model fitted successfully\n"
     ]
    }
   ],
   "source": [
    "ranker = TalentJobRanker()\n",
    "ranker.fit(talent_df, job_df, labels_df)\n",
    "logger.info(\"Model fitted successfully\")"
   ]
  },
  {
   "cell_type": "code",
   "execution_count": 7,
   "metadata": {},
   "outputs": [
    {
     "name": "stdout",
     "output_type": "stream",
     "text": [
      "2024-08-03 18:24:52 INFO [ranker.py:263]: Model and feature engineer saved to ../models_artifacts/model_03_08_2024.joblib\n",
      "2024-08-03 18:24:52 INFO [3702628301.py:5]: Model saved successfully\n"
     ]
    }
   ],
   "source": [
    "# Optional: Save the trained model\n",
    "formatted_time = datetime.datetime.now().strftime(\"%d_%m_%Y\")\n",
    "model_path = f\"../models_artifacts/model_{formatted_time}.joblib\"\n",
    "await ranker.save_model(model_path)\n",
    "logger.info(\"Model saved successfully\")"
   ]
  },
  {
   "cell_type": "code",
   "execution_count": 8,
   "metadata": {},
   "outputs": [
    {
     "name": "stdout",
     "output_type": "stream",
     "text": [
      "2024-08-03 18:24:53 INFO [ranker.py:227]: Prediction made successfully.\n",
      "2024-08-03 18:24:53 INFO [2246068842.py:5]: Predicted label: [True, True, True, True, True, True, True, True, True, True, True, True, True, True, True, True, True, True, True, True, True, True, True, True, True, True, True, True, True, True, True, True, True, True, True, True, True, True, True, True, True, True, True, True, True, True, True, True, True, True], score: [0.9949852427113618, 0.9949852427113618, 0.9148238930524275, 0.9941382116070482, 0.995887294410425, 0.9955687416488119, 0.9946154585736674, 0.9951340841209061, 0.9506219026541392, 0.9947539630662372, 0.9953970167330566, 0.9906679605744976, 0.9954686623791674, 0.9950373333101156, 0.9949852427113618, 0.9954686623791674, 0.9650786127074411, 0.9959850965870671, 0.9947519663408239, 0.9602686333898094, 0.9949852427113618, 0.995492579403344, 0.9883886203474123, 0.9950373333101156, 0.9924236413235916, 0.992431936785778, 0.994007327087816, 0.9949852427113618, 0.9942993566191448, 0.9952383074512086, 0.9934106805718371, 0.9798489643807553, 0.9525230804969601, 0.9947539630662372, 0.9947539630662372, 0.995492579403344, 0.9794610366517076, 0.9945099873970729, 0.991860597761515, 0.9951340841209061, 0.9944479197222766, 0.9942143521814303, 0.9949852427113618, 0.9959850965870671, 0.9684272553900286, 0.9929481003326476, 0.9947539630662372, 0.9946154585736674, 0.9942006085230781, 0.9930420224755866]\n"
     ]
    }
   ],
   "source": [
    "# Example prediction\n",
    "sample_talent = talent_df.iloc[0:50]\n",
    "sample_job = job_df.iloc[0:50]\n",
    "label, score = ranker.predict(sample_job, sample_talent)\n",
    "logger.info(f\"Predicted label: {label}, score: {score}\")"
   ]
  }
 ],
 "metadata": {
  "kernelspec": {
   "display_name": "srb_rec",
   "language": "python",
   "name": "python3"
  },
  "language_info": {
   "codemirror_mode": {
    "name": "ipython",
    "version": 3
   },
   "file_extension": ".py",
   "mimetype": "text/x-python",
   "name": "python",
   "nbconvert_exporter": "python",
   "pygments_lexer": "ipython3",
   "version": "3.10.9"
  }
 },
 "nbformat": 4,
 "nbformat_minor": 2
}
