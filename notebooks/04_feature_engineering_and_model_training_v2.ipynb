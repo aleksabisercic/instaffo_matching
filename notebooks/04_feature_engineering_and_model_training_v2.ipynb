{
 "cells": [
  {
   "cell_type": "code",
   "execution_count": 1,
   "metadata": {},
   "outputs": [
    {
     "name": "stdout",
     "output_type": "stream",
     "text": [
      "Obtaining file:///C:/Users/Freedom/Documents/0.GitHub/__INOVICE__/instaffo_matching\n",
      "  Installing build dependencies: started\n",
      "  Installing build dependencies: finished with status 'done'\n",
      "  Checking if build backend supports build_editable: started\n",
      "  Checking if build backend supports build_editable: finished with status 'done'\n",
      "  Getting requirements to build editable: started\n",
      "  Getting requirements to build editable: finished with status 'done'\n",
      "  Preparing editable metadata (pyproject.toml): started\n",
      "  Preparing editable metadata (pyproject.toml): finished with status 'done'\n",
      "Requirement already satisfied: pandas>=2.0.0 in c:\\users\\freedom\\anaconda3\\envs\\srb_rec\\lib\\site-packages (from instaffo_matching==0.1.0) (2.2.2)\n",
      "Requirement already satisfied: numpy in c:\\users\\freedom\\anaconda3\\envs\\srb_rec\\lib\\site-packages (from instaffo_matching==0.1.0) (1.24.2)\n",
      "Requirement already satisfied: scikit-learn>=1.0 in c:\\users\\freedom\\anaconda3\\envs\\srb_rec\\lib\\site-packages (from instaffo_matching==0.1.0) (1.2.1)\n",
      "Requirement already satisfied: joblib==1.4.2 in c:\\users\\freedom\\anaconda3\\envs\\srb_rec\\lib\\site-packages (from instaffo_matching==0.1.0) (1.4.2)\n",
      "Requirement already satisfied: seaborn>=0.11.2 in c:\\users\\freedom\\anaconda3\\envs\\srb_rec\\lib\\site-packages (from instaffo_matching==0.1.0) (0.12.2)\n",
      "Requirement already satisfied: matplotlib>=3.4.3 in c:\\users\\freedom\\anaconda3\\envs\\srb_rec\\lib\\site-packages (from instaffo_matching==0.1.0) (3.7.1)\n",
      "Requirement already satisfied: jupyterlab>=3.1.12 in c:\\users\\freedom\\anaconda3\\envs\\srb_rec\\lib\\site-packages (from instaffo_matching==0.1.0) (4.2.4)\n",
      "Requirement already satisfied: ipykernel>=6.0.0 in c:\\users\\freedom\\anaconda3\\envs\\srb_rec\\lib\\site-packages (from instaffo_matching==0.1.0) (6.15.0)\n",
      "Requirement already satisfied: matplotlib-inline>=0.1 in c:\\users\\freedom\\anaconda3\\envs\\srb_rec\\lib\\site-packages (from ipykernel>=6.0.0->instaffo_matching==0.1.0) (0.1.6)\n",
      "Requirement already satisfied: pyzmq>=17 in c:\\users\\freedom\\anaconda3\\envs\\srb_rec\\lib\\site-packages (from ipykernel>=6.0.0->instaffo_matching==0.1.0) (26.0.3)\n",
      "Requirement already satisfied: packaging in c:\\users\\freedom\\anaconda3\\envs\\srb_rec\\lib\\site-packages (from ipykernel>=6.0.0->instaffo_matching==0.1.0) (23.0)\n",
      "Requirement already satisfied: nest-asyncio in c:\\users\\freedom\\anaconda3\\envs\\srb_rec\\lib\\site-packages (from ipykernel>=6.0.0->instaffo_matching==0.1.0) (1.5.6)\n",
      "Requirement already satisfied: jupyter-client>=6.1.12 in c:\\users\\freedom\\anaconda3\\envs\\srb_rec\\lib\\site-packages (from ipykernel>=6.0.0->instaffo_matching==0.1.0) (8.0.3)\n",
      "Requirement already satisfied: tornado>=6.1 in c:\\users\\freedom\\anaconda3\\envs\\srb_rec\\lib\\site-packages (from ipykernel>=6.0.0->instaffo_matching==0.1.0) (6.2)\n",
      "Requirement already satisfied: debugpy>=1.0 in c:\\users\\freedom\\anaconda3\\envs\\srb_rec\\lib\\site-packages (from ipykernel>=6.0.0->instaffo_matching==0.1.0) (1.5.1)\n",
      "Requirement already satisfied: traitlets>=5.1.0 in c:\\users\\freedom\\anaconda3\\envs\\srb_rec\\lib\\site-packages (from ipykernel>=6.0.0->instaffo_matching==0.1.0) (5.9.0)\n",
      "Requirement already satisfied: ipython>=7.23.1 in c:\\users\\freedom\\anaconda3\\envs\\srb_rec\\lib\\site-packages (from ipykernel>=6.0.0->instaffo_matching==0.1.0) (8.10.0)\n",
      "Requirement already satisfied: psutil in c:\\users\\freedom\\anaconda3\\envs\\srb_rec\\lib\\site-packages (from ipykernel>=6.0.0->instaffo_matching==0.1.0) (5.9.0)\n",
      "Requirement already satisfied: jupyter-server<3,>=2.4.0 in c:\\users\\freedom\\anaconda3\\envs\\srb_rec\\lib\\site-packages (from jupyterlab>=3.1.12->instaffo_matching==0.1.0) (2.14.2)\n",
      "Requirement already satisfied: setuptools>=40.1.0 in c:\\users\\freedom\\anaconda3\\envs\\srb_rec\\lib\\site-packages (from jupyterlab>=3.1.12->instaffo_matching==0.1.0) (65.6.3)\n",
      "Requirement already satisfied: jupyter-lsp>=2.0.0 in c:\\users\\freedom\\anaconda3\\envs\\srb_rec\\lib\\site-packages (from jupyterlab>=3.1.12->instaffo_matching==0.1.0) (2.2.5)\n",
      "Requirement already satisfied: jinja2>=3.0.3 in c:\\users\\freedom\\anaconda3\\envs\\srb_rec\\lib\\site-packages (from jupyterlab>=3.1.12->instaffo_matching==0.1.0) (3.1.2)\n",
      "Requirement already satisfied: tomli>=1.2.2 in c:\\users\\freedom\\anaconda3\\envs\\srb_rec\\lib\\site-packages (from jupyterlab>=3.1.12->instaffo_matching==0.1.0) (2.0.1)\n",
      "Requirement already satisfied: notebook-shim>=0.2 in c:\\users\\freedom\\anaconda3\\envs\\srb_rec\\lib\\site-packages (from jupyterlab>=3.1.12->instaffo_matching==0.1.0) (0.2.4)\n",
      "Requirement already satisfied: jupyterlab-server<3,>=2.27.1 in c:\\users\\freedom\\anaconda3\\envs\\srb_rec\\lib\\site-packages (from jupyterlab>=3.1.12->instaffo_matching==0.1.0) (2.27.3)\n",
      "Requirement already satisfied: jupyter-core in c:\\users\\freedom\\anaconda3\\envs\\srb_rec\\lib\\site-packages (from jupyterlab>=3.1.12->instaffo_matching==0.1.0) (5.2.0)\n",
      "Requirement already satisfied: async-lru>=1.0.0 in c:\\users\\freedom\\anaconda3\\envs\\srb_rec\\lib\\site-packages (from jupyterlab>=3.1.12->instaffo_matching==0.1.0) (2.0.4)\n",
      "Requirement already satisfied: httpx>=0.25.0 in c:\\users\\freedom\\anaconda3\\envs\\srb_rec\\lib\\site-packages (from jupyterlab>=3.1.12->instaffo_matching==0.1.0) (0.27.0)\n",
      "Requirement already satisfied: cycler>=0.10 in c:\\users\\freedom\\anaconda3\\envs\\srb_rec\\lib\\site-packages (from matplotlib>=3.4.3->instaffo_matching==0.1.0) (0.11.0)\n",
      "Requirement already satisfied: python-dateutil>=2.7 in c:\\users\\freedom\\anaconda3\\envs\\srb_rec\\lib\\site-packages (from matplotlib>=3.4.3->instaffo_matching==0.1.0) (2.8.2)\n",
      "Requirement already satisfied: contourpy>=1.0.1 in c:\\users\\freedom\\anaconda3\\envs\\srb_rec\\lib\\site-packages (from matplotlib>=3.4.3->instaffo_matching==0.1.0) (1.1.0)\n",
      "Requirement already satisfied: kiwisolver>=1.0.1 in c:\\users\\freedom\\anaconda3\\envs\\srb_rec\\lib\\site-packages (from matplotlib>=3.4.3->instaffo_matching==0.1.0) (1.4.4)\n",
      "Requirement already satisfied: pyparsing>=2.3.1 in c:\\users\\freedom\\anaconda3\\envs\\srb_rec\\lib\\site-packages (from matplotlib>=3.4.3->instaffo_matching==0.1.0) (3.1.0)\n",
      "Requirement already satisfied: pillow>=6.2.0 in c:\\users\\freedom\\anaconda3\\envs\\srb_rec\\lib\\site-packages (from matplotlib>=3.4.3->instaffo_matching==0.1.0) (9.4.0)\n",
      "Requirement already satisfied: fonttools>=4.22.0 in c:\\users\\freedom\\anaconda3\\envs\\srb_rec\\lib\\site-packages (from matplotlib>=3.4.3->instaffo_matching==0.1.0) (4.40.0)\n",
      "Requirement already satisfied: pytz>=2020.1 in c:\\users\\freedom\\anaconda3\\envs\\srb_rec\\lib\\site-packages (from pandas>=2.0.0->instaffo_matching==0.1.0) (2022.7)\n",
      "Requirement already satisfied: tzdata>=2022.7 in c:\\users\\freedom\\anaconda3\\envs\\srb_rec\\lib\\site-packages (from pandas>=2.0.0->instaffo_matching==0.1.0) (2023.3)\n",
      "Requirement already satisfied: scipy>=1.3.2 in c:\\users\\freedom\\anaconda3\\envs\\srb_rec\\lib\\site-packages (from scikit-learn>=1.0->instaffo_matching==0.1.0) (1.10.1)\n",
      "Requirement already satisfied: threadpoolctl>=2.0.0 in c:\\users\\freedom\\anaconda3\\envs\\srb_rec\\lib\\site-packages (from scikit-learn>=1.0->instaffo_matching==0.1.0) (3.1.0)\n",
      "Requirement already satisfied: typing-extensions>=4.0.0 in c:\\users\\freedom\\anaconda3\\envs\\srb_rec\\lib\\site-packages (from async-lru>=1.0.0->jupyterlab>=3.1.12->instaffo_matching==0.1.0) (4.11.0)\n",
      "Requirement already satisfied: anyio in c:\\users\\freedom\\anaconda3\\envs\\srb_rec\\lib\\site-packages (from httpx>=0.25.0->jupyterlab>=3.1.12->instaffo_matching==0.1.0) (3.6.2)\n",
      "Requirement already satisfied: certifi in c:\\users\\freedom\\anaconda3\\envs\\srb_rec\\lib\\site-packages (from httpx>=0.25.0->jupyterlab>=3.1.12->instaffo_matching==0.1.0) (2024.2.2)\n",
      "Requirement already satisfied: httpcore==1.* in c:\\users\\freedom\\anaconda3\\envs\\srb_rec\\lib\\site-packages (from httpx>=0.25.0->jupyterlab>=3.1.12->instaffo_matching==0.1.0) (1.0.5)\n",
      "Requirement already satisfied: idna in c:\\users\\freedom\\anaconda3\\envs\\srb_rec\\lib\\site-packages (from httpx>=0.25.0->jupyterlab>=3.1.12->instaffo_matching==0.1.0) (3.4)\n",
      "Requirement already satisfied: sniffio in c:\\users\\freedom\\anaconda3\\envs\\srb_rec\\lib\\site-packages (from httpx>=0.25.0->jupyterlab>=3.1.12->instaffo_matching==0.1.0) (1.3.0)\n",
      "Requirement already satisfied: h11<0.15,>=0.13 in c:\\users\\freedom\\anaconda3\\envs\\srb_rec\\lib\\site-packages (from httpcore==1.*->httpx>=0.25.0->jupyterlab>=3.1.12->instaffo_matching==0.1.0) (0.14.0)\n",
      "Requirement already satisfied: stack-data in c:\\users\\freedom\\anaconda3\\envs\\srb_rec\\lib\\site-packages (from ipython>=7.23.1->ipykernel>=6.0.0->instaffo_matching==0.1.0) (0.6.2)\n",
      "Requirement already satisfied: prompt-toolkit<3.1.0,>=3.0.30 in c:\\users\\freedom\\anaconda3\\envs\\srb_rec\\lib\\site-packages (from ipython>=7.23.1->ipykernel>=6.0.0->instaffo_matching==0.1.0) (3.0.36)\n",
      "Requirement already satisfied: jedi>=0.16 in c:\\users\\freedom\\anaconda3\\envs\\srb_rec\\lib\\site-packages (from ipython>=7.23.1->ipykernel>=6.0.0->instaffo_matching==0.1.0) (0.18.2)\n",
      "Requirement already satisfied: decorator in c:\\users\\freedom\\anaconda3\\envs\\srb_rec\\lib\\site-packages (from ipython>=7.23.1->ipykernel>=6.0.0->instaffo_matching==0.1.0) (5.1.1)\n",
      "Requirement already satisfied: backcall in c:\\users\\freedom\\anaconda3\\envs\\srb_rec\\lib\\site-packages (from ipython>=7.23.1->ipykernel>=6.0.0->instaffo_matching==0.1.0) (0.2.0)\n",
      "Requirement already satisfied: colorama in c:\\users\\freedom\\anaconda3\\envs\\srb_rec\\lib\\site-packages (from ipython>=7.23.1->ipykernel>=6.0.0->instaffo_matching==0.1.0) (0.4.6)\n",
      "Requirement already satisfied: pickleshare in c:\\users\\freedom\\anaconda3\\envs\\srb_rec\\lib\\site-packages (from ipython>=7.23.1->ipykernel>=6.0.0->instaffo_matching==0.1.0) (0.7.5)\n",
      "Requirement already satisfied: pygments>=2.4.0 in c:\\users\\freedom\\anaconda3\\envs\\srb_rec\\lib\\site-packages (from ipython>=7.23.1->ipykernel>=6.0.0->instaffo_matching==0.1.0) (2.14.0)\n",
      "Requirement already satisfied: MarkupSafe>=2.0 in c:\\users\\freedom\\anaconda3\\envs\\srb_rec\\lib\\site-packages (from jinja2>=3.0.3->jupyterlab>=3.1.12->instaffo_matching==0.1.0) (2.1.2)\n",
      "Requirement already satisfied: pywin32>=1.0 in c:\\users\\freedom\\anaconda3\\envs\\srb_rec\\lib\\site-packages (from jupyter-core->jupyterlab>=3.1.12->instaffo_matching==0.1.0) (305.1)\n",
      "Requirement already satisfied: platformdirs>=2.5 in c:\\users\\freedom\\anaconda3\\envs\\srb_rec\\lib\\site-packages (from jupyter-core->jupyterlab>=3.1.12->instaffo_matching==0.1.0) (3.11.0)\n",
      "Requirement already satisfied: pywinpty>=2.0.1 in c:\\users\\freedom\\anaconda3\\envs\\srb_rec\\lib\\site-packages (from jupyter-server<3,>=2.4.0->jupyterlab>=3.1.12->instaffo_matching==0.1.0) (2.0.13)\n",
      "Requirement already satisfied: nbconvert>=6.4.4 in c:\\users\\freedom\\anaconda3\\envs\\srb_rec\\lib\\site-packages (from jupyter-server<3,>=2.4.0->jupyterlab>=3.1.12->instaffo_matching==0.1.0) (7.16.4)\n",
      "Requirement already satisfied: jupyter-events>=0.9.0 in c:\\users\\freedom\\anaconda3\\envs\\srb_rec\\lib\\site-packages (from jupyter-server<3,>=2.4.0->jupyterlab>=3.1.12->instaffo_matching==0.1.0) (0.10.0)\n",
      "Requirement already satisfied: overrides>=5.0 in c:\\users\\freedom\\anaconda3\\envs\\srb_rec\\lib\\site-packages (from jupyter-server<3,>=2.4.0->jupyterlab>=3.1.12->instaffo_matching==0.1.0) (7.7.0)\n",
      "Requirement already satisfied: nbformat>=5.3.0 in c:\\users\\freedom\\anaconda3\\envs\\srb_rec\\lib\\site-packages (from jupyter-server<3,>=2.4.0->jupyterlab>=3.1.12->instaffo_matching==0.1.0) (5.10.4)\n",
      "Requirement already satisfied: prometheus-client>=0.9 in c:\\users\\freedom\\anaconda3\\envs\\srb_rec\\lib\\site-packages (from jupyter-server<3,>=2.4.0->jupyterlab>=3.1.12->instaffo_matching==0.1.0) (0.20.0)\n",
      "Requirement already satisfied: send2trash>=1.8.2 in c:\\users\\freedom\\anaconda3\\envs\\srb_rec\\lib\\site-packages (from jupyter-server<3,>=2.4.0->jupyterlab>=3.1.12->instaffo_matching==0.1.0) (1.8.3)\n",
      "Requirement already satisfied: terminado>=0.8.3 in c:\\users\\freedom\\anaconda3\\envs\\srb_rec\\lib\\site-packages (from jupyter-server<3,>=2.4.0->jupyterlab>=3.1.12->instaffo_matching==0.1.0) (0.18.1)\n",
      "Requirement already satisfied: argon2-cffi>=21.1 in c:\\users\\freedom\\anaconda3\\envs\\srb_rec\\lib\\site-packages (from jupyter-server<3,>=2.4.0->jupyterlab>=3.1.12->instaffo_matching==0.1.0) (23.1.0)\n",
      "Requirement already satisfied: websocket-client>=1.7 in c:\\users\\freedom\\anaconda3\\envs\\srb_rec\\lib\\site-packages (from jupyter-server<3,>=2.4.0->jupyterlab>=3.1.12->instaffo_matching==0.1.0) (1.8.0)\n",
      "Requirement already satisfied: jupyter-server-terminals>=0.4.4 in c:\\users\\freedom\\anaconda3\\envs\\srb_rec\\lib\\site-packages (from jupyter-server<3,>=2.4.0->jupyterlab>=3.1.12->instaffo_matching==0.1.0) (0.5.3)\n",
      "Requirement already satisfied: json5>=0.9.0 in c:\\users\\freedom\\anaconda3\\envs\\srb_rec\\lib\\site-packages (from jupyterlab-server<3,>=2.27.1->jupyterlab>=3.1.12->instaffo_matching==0.1.0) (0.9.25)\n",
      "Requirement already satisfied: babel>=2.10 in c:\\users\\freedom\\anaconda3\\envs\\srb_rec\\lib\\site-packages (from jupyterlab-server<3,>=2.27.1->jupyterlab>=3.1.12->instaffo_matching==0.1.0) (2.15.0)\n",
      "Requirement already satisfied: jsonschema>=4.18.0 in c:\\users\\freedom\\anaconda3\\envs\\srb_rec\\lib\\site-packages (from jupyterlab-server<3,>=2.27.1->jupyterlab>=3.1.12->instaffo_matching==0.1.0) (4.19.1)\n",
      "Requirement already satisfied: requests>=2.31 in c:\\users\\freedom\\anaconda3\\envs\\srb_rec\\lib\\site-packages (from jupyterlab-server<3,>=2.27.1->jupyterlab>=3.1.12->instaffo_matching==0.1.0) (2.31.0)\n",
      "Requirement already satisfied: six>=1.5 in c:\\users\\freedom\\anaconda3\\envs\\srb_rec\\lib\\site-packages (from python-dateutil>=2.7->matplotlib>=3.4.3->instaffo_matching==0.1.0) (1.16.0)\n",
      "Requirement already satisfied: argon2-cffi-bindings in c:\\users\\freedom\\anaconda3\\envs\\srb_rec\\lib\\site-packages (from argon2-cffi>=21.1->jupyter-server<3,>=2.4.0->jupyterlab>=3.1.12->instaffo_matching==0.1.0) (21.2.0)\n",
      "Requirement already satisfied: parso<0.9.0,>=0.8.0 in c:\\users\\freedom\\anaconda3\\envs\\srb_rec\\lib\\site-packages (from jedi>=0.16->ipython>=7.23.1->ipykernel>=6.0.0->instaffo_matching==0.1.0) (0.8.3)\n",
      "Requirement already satisfied: referencing>=0.28.4 in c:\\users\\freedom\\anaconda3\\envs\\srb_rec\\lib\\site-packages (from jsonschema>=4.18.0->jupyterlab-server<3,>=2.27.1->jupyterlab>=3.1.12->instaffo_matching==0.1.0) (0.30.2)\n",
      "Requirement already satisfied: attrs>=22.2.0 in c:\\users\\freedom\\anaconda3\\envs\\srb_rec\\lib\\site-packages (from jsonschema>=4.18.0->jupyterlab-server<3,>=2.27.1->jupyterlab>=3.1.12->instaffo_matching==0.1.0) (23.1.0)\n",
      "Requirement already satisfied: rpds-py>=0.7.1 in c:\\users\\freedom\\anaconda3\\envs\\srb_rec\\lib\\site-packages (from jsonschema>=4.18.0->jupyterlab-server<3,>=2.27.1->jupyterlab>=3.1.12->instaffo_matching==0.1.0) (0.10.4)\n",
      "Requirement already satisfied: jsonschema-specifications>=2023.03.6 in c:\\users\\freedom\\anaconda3\\envs\\srb_rec\\lib\\site-packages (from jsonschema>=4.18.0->jupyterlab-server<3,>=2.27.1->jupyterlab>=3.1.12->instaffo_matching==0.1.0) (2023.7.1)\n",
      "Requirement already satisfied: rfc3986-validator>=0.1.1 in c:\\users\\freedom\\anaconda3\\envs\\srb_rec\\lib\\site-packages (from jupyter-events>=0.9.0->jupyter-server<3,>=2.4.0->jupyterlab>=3.1.12->instaffo_matching==0.1.0) (0.1.1)\n",
      "Requirement already satisfied: python-json-logger>=2.0.4 in c:\\users\\freedom\\anaconda3\\envs\\srb_rec\\lib\\site-packages (from jupyter-events>=0.9.0->jupyter-server<3,>=2.4.0->jupyterlab>=3.1.12->instaffo_matching==0.1.0) (2.0.7)\n",
      "Requirement already satisfied: rfc3339-validator in c:\\users\\freedom\\anaconda3\\envs\\srb_rec\\lib\\site-packages (from jupyter-events>=0.9.0->jupyter-server<3,>=2.4.0->jupyterlab>=3.1.12->instaffo_matching==0.1.0) (0.1.4)\n",
      "Requirement already satisfied: pyyaml>=5.3 in c:\\users\\freedom\\anaconda3\\envs\\srb_rec\\lib\\site-packages (from jupyter-events>=0.9.0->jupyter-server<3,>=2.4.0->jupyterlab>=3.1.12->instaffo_matching==0.1.0) (6.0)\n",
      "Requirement already satisfied: defusedxml in c:\\users\\freedom\\anaconda3\\envs\\srb_rec\\lib\\site-packages (from nbconvert>=6.4.4->jupyter-server<3,>=2.4.0->jupyterlab>=3.1.12->instaffo_matching==0.1.0) (0.7.1)\n",
      "Requirement already satisfied: bleach!=5.0.0 in c:\\users\\freedom\\anaconda3\\envs\\srb_rec\\lib\\site-packages (from nbconvert>=6.4.4->jupyter-server<3,>=2.4.0->jupyterlab>=3.1.12->instaffo_matching==0.1.0) (6.1.0)\n",
      "Requirement already satisfied: jupyterlab-pygments in c:\\users\\freedom\\anaconda3\\envs\\srb_rec\\lib\\site-packages (from nbconvert>=6.4.4->jupyter-server<3,>=2.4.0->jupyterlab>=3.1.12->instaffo_matching==0.1.0) (0.3.0)\n",
      "Requirement already satisfied: tinycss2 in c:\\users\\freedom\\anaconda3\\envs\\srb_rec\\lib\\site-packages (from nbconvert>=6.4.4->jupyter-server<3,>=2.4.0->jupyterlab>=3.1.12->instaffo_matching==0.1.0) (1.3.0)\n",
      "Requirement already satisfied: beautifulsoup4 in c:\\users\\freedom\\anaconda3\\envs\\srb_rec\\lib\\site-packages (from nbconvert>=6.4.4->jupyter-server<3,>=2.4.0->jupyterlab>=3.1.12->instaffo_matching==0.1.0) (4.12.2)\n",
      "Requirement already satisfied: mistune<4,>=2.0.3 in c:\\users\\freedom\\anaconda3\\envs\\srb_rec\\lib\\site-packages (from nbconvert>=6.4.4->jupyter-server<3,>=2.4.0->jupyterlab>=3.1.12->instaffo_matching==0.1.0) (3.0.2)\n",
      "Requirement already satisfied: nbclient>=0.5.0 in c:\\users\\freedom\\anaconda3\\envs\\srb_rec\\lib\\site-packages (from nbconvert>=6.4.4->jupyter-server<3,>=2.4.0->jupyterlab>=3.1.12->instaffo_matching==0.1.0) (0.10.0)\n",
      "Requirement already satisfied: pandocfilters>=1.4.1 in c:\\users\\freedom\\anaconda3\\envs\\srb_rec\\lib\\site-packages (from nbconvert>=6.4.4->jupyter-server<3,>=2.4.0->jupyterlab>=3.1.12->instaffo_matching==0.1.0) (1.5.1)\n",
      "Requirement already satisfied: fastjsonschema>=2.15 in c:\\users\\freedom\\anaconda3\\envs\\srb_rec\\lib\\site-packages (from nbformat>=5.3.0->jupyter-server<3,>=2.4.0->jupyterlab>=3.1.12->instaffo_matching==0.1.0) (2.20.0)\n",
      "Requirement already satisfied: wcwidth in c:\\users\\freedom\\anaconda3\\envs\\srb_rec\\lib\\site-packages (from prompt-toolkit<3.1.0,>=3.0.30->ipython>=7.23.1->ipykernel>=6.0.0->instaffo_matching==0.1.0) (0.2.6)\n",
      "Requirement already satisfied: urllib3<3,>=1.21.1 in c:\\users\\freedom\\anaconda3\\envs\\srb_rec\\lib\\site-packages (from requests>=2.31->jupyterlab-server<3,>=2.27.1->jupyterlab>=3.1.12->instaffo_matching==0.1.0) (2.0.6)\n",
      "Requirement already satisfied: charset-normalizer<4,>=2 in c:\\users\\freedom\\anaconda3\\envs\\srb_rec\\lib\\site-packages (from requests>=2.31->jupyterlab-server<3,>=2.27.1->jupyterlab>=3.1.12->instaffo_matching==0.1.0) (3.0.1)\n",
      "Requirement already satisfied: asttokens>=2.1.0 in c:\\users\\freedom\\anaconda3\\envs\\srb_rec\\lib\\site-packages (from stack-data->ipython>=7.23.1->ipykernel>=6.0.0->instaffo_matching==0.1.0) (2.2.1)\n",
      "Requirement already satisfied: executing>=1.2.0 in c:\\users\\freedom\\anaconda3\\envs\\srb_rec\\lib\\site-packages (from stack-data->ipython>=7.23.1->ipykernel>=6.0.0->instaffo_matching==0.1.0) (1.2.0)\n",
      "Requirement already satisfied: pure-eval in c:\\users\\freedom\\anaconda3\\envs\\srb_rec\\lib\\site-packages (from stack-data->ipython>=7.23.1->ipykernel>=6.0.0->instaffo_matching==0.1.0) (0.2.2)\n",
      "Requirement already satisfied: webencodings in c:\\users\\freedom\\anaconda3\\envs\\srb_rec\\lib\\site-packages (from bleach!=5.0.0->nbconvert>=6.4.4->jupyter-server<3,>=2.4.0->jupyterlab>=3.1.12->instaffo_matching==0.1.0) (0.5.1)\n",
      "Requirement already satisfied: jsonpointer>1.13 in c:\\users\\freedom\\anaconda3\\envs\\srb_rec\\lib\\site-packages (from jsonschema>=4.18.0->jupyterlab-server<3,>=2.27.1->jupyterlab>=3.1.12->instaffo_matching==0.1.0) (2.4)\n",
      "Requirement already satisfied: fqdn in c:\\users\\freedom\\anaconda3\\envs\\srb_rec\\lib\\site-packages (from jsonschema>=4.18.0->jupyterlab-server<3,>=2.27.1->jupyterlab>=3.1.12->instaffo_matching==0.1.0) (1.5.1)\n",
      "Requirement already satisfied: isoduration in c:\\users\\freedom\\anaconda3\\envs\\srb_rec\\lib\\site-packages (from jsonschema>=4.18.0->jupyterlab-server<3,>=2.27.1->jupyterlab>=3.1.12->instaffo_matching==0.1.0) (20.11.0)\n",
      "Requirement already satisfied: webcolors>=1.11 in c:\\users\\freedom\\anaconda3\\envs\\srb_rec\\lib\\site-packages (from jsonschema>=4.18.0->jupyterlab-server<3,>=2.27.1->jupyterlab>=3.1.12->instaffo_matching==0.1.0) (24.6.0)\n",
      "Requirement already satisfied: uri-template in c:\\users\\freedom\\anaconda3\\envs\\srb_rec\\lib\\site-packages (from jsonschema>=4.18.0->jupyterlab-server<3,>=2.27.1->jupyterlab>=3.1.12->instaffo_matching==0.1.0) (1.3.0)\n",
      "Requirement already satisfied: cffi>=1.0.1 in c:\\users\\freedom\\anaconda3\\envs\\srb_rec\\lib\\site-packages (from argon2-cffi-bindings->argon2-cffi>=21.1->jupyter-server<3,>=2.4.0->jupyterlab>=3.1.12->instaffo_matching==0.1.0) (1.15.1)\n",
      "Requirement already satisfied: soupsieve>1.2 in c:\\users\\freedom\\anaconda3\\envs\\srb_rec\\lib\\site-packages (from beautifulsoup4->nbconvert>=6.4.4->jupyter-server<3,>=2.4.0->jupyterlab>=3.1.12->instaffo_matching==0.1.0) (2.4.1)\n",
      "Requirement already satisfied: pycparser in c:\\users\\freedom\\anaconda3\\envs\\srb_rec\\lib\\site-packages (from cffi>=1.0.1->argon2-cffi-bindings->argon2-cffi>=21.1->jupyter-server<3,>=2.4.0->jupyterlab>=3.1.12->instaffo_matching==0.1.0) (2.21)\n",
      "Requirement already satisfied: arrow>=0.15.0 in c:\\users\\freedom\\anaconda3\\envs\\srb_rec\\lib\\site-packages (from isoduration->jsonschema>=4.18.0->jupyterlab-server<3,>=2.27.1->jupyterlab>=3.1.12->instaffo_matching==0.1.0) (1.3.0)\n",
      "Requirement already satisfied: types-python-dateutil>=2.8.10 in c:\\users\\freedom\\anaconda3\\envs\\srb_rec\\lib\\site-packages (from arrow>=0.15.0->isoduration->jsonschema>=4.18.0->jupyterlab-server<3,>=2.27.1->jupyterlab>=3.1.12->instaffo_matching==0.1.0) (2.9.0.20240316)\n",
      "Building wheels for collected packages: instaffo_matching\n",
      "  Building editable for instaffo_matching (pyproject.toml): started\n",
      "  Building editable for instaffo_matching (pyproject.toml): finished with status 'done'\n",
      "  Created wheel for instaffo_matching: filename=instaffo_matching-0.1.0-0.editable-py3-none-any.whl size=3049 sha256=c7af932e98f6740927901e65fd8e1b3553861f2faebb024d775e87172a163030\n",
      "  Stored in directory: C:\\Users\\Freedom\\AppData\\Local\\Temp\\pip-ephem-wheel-cache-s4ic6yud\\wheels\\36\\65\\f3\\274cbbbcef0576fb7962d3bbd2e84f14d2ac196810d303b807\n",
      "Successfully built instaffo_matching\n",
      "Installing collected packages: instaffo_matching\n",
      "  Attempting uninstall: instaffo_matching\n",
      "    Found existing installation: instaffo_matching 0.1.0\n",
      "    Uninstalling instaffo_matching-0.1.0:\n",
      "      Successfully uninstalled instaffo_matching-0.1.0\n",
      "Successfully installed instaffo_matching-0.1.0\n"
     ]
    },
    {
     "name": "stderr",
     "output_type": "stream",
     "text": [
      "\n",
      "[notice] A new release of pip is available: 23.0.1 -> 24.2\n",
      "[notice] To update, run: python.exe -m pip install --upgrade pip\n"
     ]
    }
   ],
   "source": [
    "!pip install -e \"..[dev]\""
   ]
  },
  {
   "cell_type": "code",
   "execution_count": 2,
   "metadata": {},
   "outputs": [
    {
     "name": "stderr",
     "output_type": "stream",
     "text": [
      "c:\\Users\\Freedom\\Anaconda3\\envs\\srb_rec\\lib\\site-packages\\pandas\\core\\arrays\\masked.py:60: UserWarning: Pandas requires version '1.3.6' or newer of 'bottleneck' (version '1.3.5' currently installed).\n",
      "  from pandas.core import (\n"
     ]
    }
   ],
   "source": [
    "import datetime\n",
    "\n",
    "from instaffo_matching.utils.logging import setup_logger\n",
    "from instaffo_matching.data.loader import load_data, get_matching_dataframes\n",
    "from instaffo_matching.data.preprocessor import standardize_data\n",
    "from instaffo_matching.models.ranker import TalentJobRanker"
   ]
  },
  {
   "cell_type": "code",
   "execution_count": 3,
   "metadata": {},
   "outputs": [],
   "source": [
    "# Set up logger\n",
    "logger = setup_logger()"
   ]
  },
  {
   "cell_type": "code",
   "execution_count": 4,
   "metadata": {},
   "outputs": [],
   "source": [
    "# Load data\n",
    "data = load_data(\"../data/data.json\")\n",
    "talent_df, job_df, labels_df = get_matching_dataframes(data=data)"
   ]
  },
  {
   "cell_type": "code",
   "execution_count": null,
   "metadata": {},
   "outputs": [
    {
     "name": "stdout",
     "output_type": "stream",
     "text": [
      "2024-08-03 16:18:04 INFO [258458891.py:3]: Data cleaned successfully\n",
      "2024-08-03 16:18:04 INFO [258458891.py:3]: Data cleaned successfully\n"
     ]
    }
   ],
   "source": [
    "# Clean / Preprocess data\n",
    "talent_df, job_df = standardize_data(talent_df, job_df)\n",
    "logger.info(\"Data cleaned successfully\")"
   ]
  },
  {
   "cell_type": "code",
   "execution_count": null,
   "metadata": {},
   "outputs": [
    {
     "name": "stdout",
     "output_type": "stream",
     "text": [
      "2024-08-03 16:13:18 INFO [ranker.py:119]: Starting training process.\n",
      "2024-08-03 16:13:18 INFO [ranker.py:119]: Starting training process.\n"
     ]
    },
    {
     "name": "stderr",
     "output_type": "stream",
     "text": [
      "c:\\Users\\Freedom\\Anaconda3\\envs\\srb_rec\\lib\\site-packages\\sklearn\\preprocessing\\_encoders.py:828: FutureWarning: `sparse` was renamed to `sparse_output` in version 1.2 and will be removed in 1.4. `sparse_output` is ignored unless you leave `sparse` to its default value.\n",
      "  warnings.warn(\n"
     ]
    },
    {
     "name": "stdout",
     "output_type": "stream",
     "text": [
      "2024-08-03 16:13:35 INFO [ranker.py:161]: Model training completed.\n",
      "2024-08-03 16:13:35 INFO [ranker.py:161]: Model training completed.\n",
      "2024-08-03 16:13:35 INFO [ranker.py:172]: Confusion Matrix:\n",
      "[[199   1]\n",
      " [  2 198]]\n",
      "2024-08-03 16:13:35 INFO [ranker.py:172]: Confusion Matrix:\n",
      "[[199   1]\n",
      " [  2 198]]\n",
      "2024-08-03 16:13:35 INFO [ranker.py:173]: Classification Report:\n",
      "              precision    recall  f1-score   support\n",
      "\n",
      "       False       0.99      0.99      0.99       200\n",
      "        True       0.99      0.99      0.99       200\n",
      "\n",
      "    accuracy                           0.99       400\n",
      "   macro avg       0.99      0.99      0.99       400\n",
      "weighted avg       0.99      0.99      0.99       400\n",
      "\n",
      "2024-08-03 16:13:35 INFO [ranker.py:173]: Classification Report:\n",
      "              precision    recall  f1-score   support\n",
      "\n",
      "       False       0.99      0.99      0.99       200\n",
      "        True       0.99      0.99      0.99       200\n",
      "\n",
      "    accuracy                           0.99       400\n",
      "   macro avg       0.99      0.99      0.99       400\n",
      "weighted avg       0.99      0.99      0.99       400\n",
      "\n",
      "2024-08-03 16:13:35 INFO [3449415853.py:3]: Model fitted successfully\n",
      "2024-08-03 16:13:35 INFO [3449415853.py:3]: Model fitted successfully\n"
     ]
    }
   ],
   "source": [
    "ranker = TalentJobRanker()\n",
    "ranker.fit(talent_df, job_df, labels_df)\n",
    "logger.info(\"Model fitted successfully\")"
   ]
  },
  {
   "cell_type": "code",
   "execution_count": null,
   "metadata": {},
   "outputs": [],
   "source": [
    "# Optional: Save the trained model\n",
    "formatted_time = datetime.datetime.now().strftime(\"%d_%m_%Y\")\n",
    "model_path = f\"../models_artifacts/model_{formatted_time}.joblib\"\n",
    "await ranker.save_model(model_path)\n",
    "logger.info(\"Model saved successfully\")"
   ]
  },
  {
   "cell_type": "code",
   "execution_count": null,
   "metadata": {},
   "outputs": [
    {
     "name": "stdout",
     "output_type": "stream",
     "text": [
      "2024-08-03 16:18:15 ERROR [ranker.py:201]: Error during prediction: 'salary_expectation'\n",
      "2024-08-03 16:18:15 ERROR [ranker.py:201]: Error during prediction: 'salary_expectation'\n"
     ]
    },
    {
     "ename": "KeyError",
     "evalue": "'salary_expectation'",
     "output_type": "error",
     "traceback": [
      "\u001b[1;31m---------------------------------------------------------------------------\u001b[0m",
      "\u001b[1;31mKeyError\u001b[0m                                  Traceback (most recent call last)",
      "File \u001b[1;32mc:\\Users\\Freedom\\Anaconda3\\envs\\srb_rec\\lib\\site-packages\\pandas\\core\\indexes\\base.py:3805\u001b[0m, in \u001b[0;36mIndex.get_loc\u001b[1;34m(self, key)\u001b[0m\n\u001b[0;32m   3804\u001b[0m \u001b[38;5;28;01mtry\u001b[39;00m:\n\u001b[1;32m-> 3805\u001b[0m     \u001b[38;5;28;01mreturn\u001b[39;00m \u001b[38;5;28;43mself\u001b[39;49m\u001b[38;5;241;43m.\u001b[39;49m\u001b[43m_engine\u001b[49m\u001b[38;5;241;43m.\u001b[39;49m\u001b[43mget_loc\u001b[49m\u001b[43m(\u001b[49m\u001b[43mcasted_key\u001b[49m\u001b[43m)\u001b[49m\n\u001b[0;32m   3806\u001b[0m \u001b[38;5;28;01mexcept\u001b[39;00m \u001b[38;5;167;01mKeyError\u001b[39;00m \u001b[38;5;28;01mas\u001b[39;00m err:\n",
      "File \u001b[1;32mindex.pyx:167\u001b[0m, in \u001b[0;36mpandas._libs.index.IndexEngine.get_loc\u001b[1;34m()\u001b[0m\n",
      "File \u001b[1;32mindex.pyx:196\u001b[0m, in \u001b[0;36mpandas._libs.index.IndexEngine.get_loc\u001b[1;34m()\u001b[0m\n",
      "File \u001b[1;32mpandas\\\\_libs\\\\hashtable_class_helper.pxi:7081\u001b[0m, in \u001b[0;36mpandas._libs.hashtable.PyObjectHashTable.get_item\u001b[1;34m()\u001b[0m\n",
      "File \u001b[1;32mpandas\\\\_libs\\\\hashtable_class_helper.pxi:7089\u001b[0m, in \u001b[0;36mpandas._libs.hashtable.PyObjectHashTable.get_item\u001b[1;34m()\u001b[0m\n",
      "\u001b[1;31mKeyError\u001b[0m: 'salary_expectation'",
      "\nThe above exception was the direct cause of the following exception:\n",
      "\u001b[1;31mKeyError\u001b[0m                                  Traceback (most recent call last)",
      "Cell \u001b[1;32mIn[16], line 4\u001b[0m\n\u001b[0;32m      2\u001b[0m sample_talent \u001b[38;5;241m=\u001b[39m talent_df\u001b[38;5;241m.\u001b[39miloc[\u001b[38;5;241m0\u001b[39m:\u001b[38;5;241m50\u001b[39m]\n\u001b[0;32m      3\u001b[0m sample_job \u001b[38;5;241m=\u001b[39m job_df\u001b[38;5;241m.\u001b[39miloc[\u001b[38;5;241m0\u001b[39m:\u001b[38;5;241m50\u001b[39m]\n\u001b[1;32m----> 4\u001b[0m label, score \u001b[38;5;241m=\u001b[39m \u001b[38;5;28;01mawait\u001b[39;00m ranker\u001b[38;5;241m.\u001b[39mpredict(sample_talent, sample_job)\n\u001b[0;32m      5\u001b[0m logger\u001b[38;5;241m.\u001b[39minfo(\u001b[38;5;124mf\u001b[39m\u001b[38;5;124m\"\u001b[39m\u001b[38;5;124mPredicted label: \u001b[39m\u001b[38;5;132;01m{\u001b[39;00mlabel\u001b[38;5;132;01m}\u001b[39;00m\u001b[38;5;124m, score: \u001b[39m\u001b[38;5;132;01m{\u001b[39;00mscore\u001b[38;5;132;01m}\u001b[39;00m\u001b[38;5;124m\"\u001b[39m)\n",
      "File \u001b[1;32mc:\\users\\freedom\\documents\\0.github\\__inovice__\\instaffo_matching\\instaffo_matching\\models\\ranker.py:195\u001b[0m, in \u001b[0;36mTalentJobRanker.predict\u001b[1;34m(self, talent, job)\u001b[0m\n\u001b[0;32m    176\u001b[0m \u001b[38;5;250m\u001b[39m\u001b[38;5;124;03m\"\"\"\u001b[39;00m\n\u001b[0;32m    177\u001b[0m \u001b[38;5;124;03mAsynchronously predicts the match label and score for given talent and job profiles.\u001b[39;00m\n\u001b[0;32m    178\u001b[0m \n\u001b[1;32m   (...)\u001b[0m\n\u001b[0;32m    192\u001b[0m \u001b[38;5;124;03m    Match: True, Score: 0.85\u001b[39;00m\n\u001b[0;32m    193\u001b[0m \u001b[38;5;124;03m\"\"\"\u001b[39;00m\n\u001b[0;32m    194\u001b[0m \u001b[38;5;28;01mtry\u001b[39;00m:\n\u001b[1;32m--> 195\u001b[0m     features \u001b[38;5;241m=\u001b[39m \u001b[38;5;28;01mawait\u001b[39;00m asyncio\u001b[38;5;241m.\u001b[39mto_thread(\u001b[38;5;28mself\u001b[39m\u001b[38;5;241m.\u001b[39m_transform_input, talent, job)\n\u001b[0;32m    196\u001b[0m     label \u001b[38;5;241m=\u001b[39m \u001b[38;5;28;01mawait\u001b[39;00m asyncio\u001b[38;5;241m.\u001b[39mto_thread(\u001b[38;5;28mself\u001b[39m\u001b[38;5;241m.\u001b[39mmodel_strategy\u001b[38;5;241m.\u001b[39mpredict, features)\n\u001b[0;32m    197\u001b[0m     score \u001b[38;5;241m=\u001b[39m \u001b[38;5;28;01mawait\u001b[39;00m asyncio\u001b[38;5;241m.\u001b[39mto_thread(\u001b[38;5;28mself\u001b[39m\u001b[38;5;241m.\u001b[39mmodel_strategy\u001b[38;5;241m.\u001b[39mpredict_proba, features)\n",
      "File \u001b[1;32mc:\\Users\\Freedom\\Anaconda3\\envs\\srb_rec\\lib\\asyncio\\threads.py:25\u001b[0m, in \u001b[0;36mto_thread\u001b[1;34m(func, *args, **kwargs)\u001b[0m\n\u001b[0;32m     23\u001b[0m ctx \u001b[38;5;241m=\u001b[39m contextvars\u001b[38;5;241m.\u001b[39mcopy_context()\n\u001b[0;32m     24\u001b[0m func_call \u001b[38;5;241m=\u001b[39m functools\u001b[38;5;241m.\u001b[39mpartial(ctx\u001b[38;5;241m.\u001b[39mrun, func, \u001b[38;5;241m*\u001b[39margs, \u001b[38;5;241m*\u001b[39m\u001b[38;5;241m*\u001b[39mkwargs)\n\u001b[1;32m---> 25\u001b[0m \u001b[38;5;28;01mreturn\u001b[39;00m \u001b[38;5;28;01mawait\u001b[39;00m loop\u001b[38;5;241m.\u001b[39mrun_in_executor(\u001b[38;5;28;01mNone\u001b[39;00m, func_call)\n",
      "File \u001b[1;32mc:\\Users\\Freedom\\Anaconda3\\envs\\srb_rec\\lib\\concurrent\\futures\\thread.py:58\u001b[0m, in \u001b[0;36m_WorkItem.run\u001b[1;34m(self)\u001b[0m\n\u001b[0;32m     55\u001b[0m     \u001b[38;5;28;01mreturn\u001b[39;00m\n\u001b[0;32m     57\u001b[0m \u001b[38;5;28;01mtry\u001b[39;00m:\n\u001b[1;32m---> 58\u001b[0m     result \u001b[38;5;241m=\u001b[39m \u001b[38;5;28mself\u001b[39m\u001b[38;5;241m.\u001b[39mfn(\u001b[38;5;241m*\u001b[39m\u001b[38;5;28mself\u001b[39m\u001b[38;5;241m.\u001b[39margs, \u001b[38;5;241m*\u001b[39m\u001b[38;5;241m*\u001b[39m\u001b[38;5;28mself\u001b[39m\u001b[38;5;241m.\u001b[39mkwargs)\n\u001b[0;32m     59\u001b[0m \u001b[38;5;28;01mexcept\u001b[39;00m \u001b[38;5;167;01mBaseException\u001b[39;00m \u001b[38;5;28;01mas\u001b[39;00m exc:\n\u001b[0;32m     60\u001b[0m     \u001b[38;5;28mself\u001b[39m\u001b[38;5;241m.\u001b[39mfuture\u001b[38;5;241m.\u001b[39mset_exception(exc)\n",
      "File \u001b[1;32mc:\\users\\freedom\\documents\\0.github\\__inovice__\\instaffo_matching\\instaffo_matching\\models\\ranker.py:215\u001b[0m, in \u001b[0;36mTalentJobRanker._transform_input\u001b[1;34m(self, talent, job)\u001b[0m\n\u001b[0;32m    204\u001b[0m \u001b[38;5;28;01mdef\u001b[39;00m \u001b[38;5;21m_transform_input\u001b[39m(\u001b[38;5;28mself\u001b[39m, talent: pd\u001b[38;5;241m.\u001b[39mDataFrame, job: pd\u001b[38;5;241m.\u001b[39mDataFrame) \u001b[38;5;241m-\u001b[39m\u001b[38;5;241m>\u001b[39m np\u001b[38;5;241m.\u001b[39mndarray:\n\u001b[0;32m    205\u001b[0m \u001b[38;5;250m    \u001b[39m\u001b[38;5;124;03m\"\"\"\u001b[39;00m\n\u001b[0;32m    206\u001b[0m \u001b[38;5;124;03m    Transforms the input talent and job profiles into the feature format required by the model.\u001b[39;00m\n\u001b[0;32m    207\u001b[0m \n\u001b[1;32m   (...)\u001b[0m\n\u001b[0;32m    213\u001b[0m \u001b[38;5;124;03m        np.ndarray: The transformed feature matrix.\u001b[39;00m\n\u001b[0;32m    214\u001b[0m \u001b[38;5;124;03m    \"\"\"\u001b[39;00m\n\u001b[1;32m--> 215\u001b[0m     \u001b[38;5;28;01mreturn\u001b[39;00m \u001b[38;5;28;43mself\u001b[39;49m\u001b[38;5;241;43m.\u001b[39;49m\u001b[43mfeature_engineer\u001b[49m\u001b[38;5;241;43m.\u001b[39;49m\u001b[43mtransform\u001b[49m\u001b[43m(\u001b[49m\u001b[43mtalent\u001b[49m\u001b[43m,\u001b[49m\u001b[43m \u001b[49m\u001b[43mjob\u001b[49m\u001b[43m)\u001b[49m\n",
      "File \u001b[1;32mc:\\users\\freedom\\documents\\0.github\\__inovice__\\instaffo_matching\\instaffo_matching\\features\\engineer.py:121\u001b[0m, in \u001b[0;36mtransform\u001b[1;34m(self, job_df, talent_df)\u001b[0m\n\u001b[0;32m    119\u001b[0m features, categorical_features \u001b[38;5;241m=\u001b[39m \u001b[38;5;28mself\u001b[39m\u001b[38;5;241m.\u001b[39mengineer_features(job_df, talent_df)\n\u001b[0;32m    120\u001b[0m combined_features \u001b[38;5;241m=\u001b[39m np\u001b[38;5;241m.\u001b[39mhstack((features, categorical_features))\n\u001b[1;32m--> 121\u001b[0m \u001b[38;5;28;01mreturn\u001b[39;00m \u001b[38;5;28mself\u001b[39m\u001b[38;5;241m.\u001b[39mpreprocessor\u001b[38;5;241m.\u001b[39mtransform(combined_features)\n",
      "File \u001b[1;32mc:\\users\\freedom\\documents\\0.github\\__inovice__\\instaffo_matching\\instaffo_matching\\features\\engineer.py:171\u001b[0m, in \u001b[0;36mengineer_features\u001b[1;34m(self, job_df, talent_df)\u001b[0m\n\u001b[0;32m    169\u001b[0m salary_ratio \u001b[38;5;241m=\u001b[39m talent[\u001b[38;5;124m\"\u001b[39m\u001b[38;5;124msalary_expectation\u001b[39m\u001b[38;5;124m\"\u001b[39m] \u001b[38;5;241m/\u001b[39m job[\u001b[38;5;124m\"\u001b[39m\u001b[38;5;124mmax_salary\u001b[39m\u001b[38;5;124m\"\u001b[39m]\n\u001b[0;32m    170\u001b[0m salary_comparison \u001b[38;5;241m=\u001b[39m \u001b[38;5;241m1\u001b[39m \u001b[38;5;28;01mif\u001b[39;00m talent[\u001b[38;5;124m\"\u001b[39m\u001b[38;5;124msalary_expectation\u001b[39m\u001b[38;5;124m\"\u001b[39m] \u001b[38;5;241m>\u001b[39m job[\u001b[38;5;124m\"\u001b[39m\u001b[38;5;124mmax_salary\u001b[39m\u001b[38;5;124m\"\u001b[39m] \u001b[38;5;28;01melse\u001b[39;00m \u001b[38;5;241m0\u001b[39m\n\u001b[1;32m--> 171\u001b[0m salary_difference_percentage \u001b[38;5;241m=\u001b[39m (\n\u001b[0;32m    172\u001b[0m     talent[\u001b[38;5;124m\"\u001b[39m\u001b[38;5;124msalary_expectation\u001b[39m\u001b[38;5;124m\"\u001b[39m] \u001b[38;5;241m-\u001b[39m job[\u001b[38;5;124m\"\u001b[39m\u001b[38;5;124mmax_salary\u001b[39m\u001b[38;5;124m\"\u001b[39m]\n\u001b[0;32m    173\u001b[0m ) \u001b[38;5;241m/\u001b[39m job[\u001b[38;5;124m\"\u001b[39m\u001b[38;5;124mmax_salary\u001b[39m\u001b[38;5;124m\"\u001b[39m]\n\u001b[0;32m    174\u001b[0m \u001b[38;5;66;03m# salary_competitive = (talent['salary_expectation'] <= job['max_salary']) * calculate_competitiveness_index(job['max_salary'], job['job_roles'])\u001b[39;00m\n\u001b[0;32m    175\u001b[0m \n\u001b[0;32m    176\u001b[0m \u001b[38;5;66;03m# Seniority features\u001b[39;00m\n\u001b[0;32m    177\u001b[0m max_seniority \u001b[38;5;241m=\u001b[39m \u001b[38;5;28mmax\u001b[39m(sen \u001b[38;5;28;01mfor\u001b[39;00m sen \u001b[38;5;129;01min\u001b[39;00m job[\u001b[38;5;124m\"\u001b[39m\u001b[38;5;124mseniorities\u001b[39m\u001b[38;5;124m\"\u001b[39m])\n",
      "File \u001b[1;32mc:\\Users\\Freedom\\Anaconda3\\envs\\srb_rec\\lib\\site-packages\\pandas\\core\\series.py:1121\u001b[0m, in \u001b[0;36mSeries.__getitem__\u001b[1;34m(self, key)\u001b[0m\n\u001b[0;32m   1118\u001b[0m     \u001b[38;5;28;01mreturn\u001b[39;00m \u001b[38;5;28mself\u001b[39m\u001b[38;5;241m.\u001b[39m_values[key]\n\u001b[0;32m   1120\u001b[0m \u001b[38;5;28;01melif\u001b[39;00m key_is_scalar:\n\u001b[1;32m-> 1121\u001b[0m     \u001b[38;5;28;01mreturn\u001b[39;00m \u001b[38;5;28;43mself\u001b[39;49m\u001b[38;5;241;43m.\u001b[39;49m\u001b[43m_get_value\u001b[49m\u001b[43m(\u001b[49m\u001b[43mkey\u001b[49m\u001b[43m)\u001b[49m\n\u001b[0;32m   1123\u001b[0m \u001b[38;5;66;03m# Convert generator to list before going through hashable part\u001b[39;00m\n\u001b[0;32m   1124\u001b[0m \u001b[38;5;66;03m# (We will iterate through the generator there to check for slices)\u001b[39;00m\n\u001b[0;32m   1125\u001b[0m \u001b[38;5;28;01mif\u001b[39;00m is_iterator(key):\n",
      "File \u001b[1;32mc:\\Users\\Freedom\\Anaconda3\\envs\\srb_rec\\lib\\site-packages\\pandas\\core\\series.py:1237\u001b[0m, in \u001b[0;36mSeries._get_value\u001b[1;34m(self, label, takeable)\u001b[0m\n\u001b[0;32m   1234\u001b[0m     \u001b[38;5;28;01mreturn\u001b[39;00m \u001b[38;5;28mself\u001b[39m\u001b[38;5;241m.\u001b[39m_values[label]\n\u001b[0;32m   1236\u001b[0m \u001b[38;5;66;03m# Similar to Index.get_value, but we do not fall back to positional\u001b[39;00m\n\u001b[1;32m-> 1237\u001b[0m loc \u001b[38;5;241m=\u001b[39m \u001b[38;5;28;43mself\u001b[39;49m\u001b[38;5;241;43m.\u001b[39;49m\u001b[43mindex\u001b[49m\u001b[38;5;241;43m.\u001b[39;49m\u001b[43mget_loc\u001b[49m\u001b[43m(\u001b[49m\u001b[43mlabel\u001b[49m\u001b[43m)\u001b[49m\n\u001b[0;32m   1239\u001b[0m \u001b[38;5;28;01mif\u001b[39;00m is_integer(loc):\n\u001b[0;32m   1240\u001b[0m     \u001b[38;5;28;01mreturn\u001b[39;00m \u001b[38;5;28mself\u001b[39m\u001b[38;5;241m.\u001b[39m_values[loc]\n",
      "File \u001b[1;32mc:\\Users\\Freedom\\Anaconda3\\envs\\srb_rec\\lib\\site-packages\\pandas\\core\\indexes\\base.py:3812\u001b[0m, in \u001b[0;36mIndex.get_loc\u001b[1;34m(self, key)\u001b[0m\n\u001b[0;32m   3807\u001b[0m     \u001b[38;5;28;01mif\u001b[39;00m \u001b[38;5;28misinstance\u001b[39m(casted_key, \u001b[38;5;28mslice\u001b[39m) \u001b[38;5;129;01mor\u001b[39;00m (\n\u001b[0;32m   3808\u001b[0m         \u001b[38;5;28misinstance\u001b[39m(casted_key, abc\u001b[38;5;241m.\u001b[39mIterable)\n\u001b[0;32m   3809\u001b[0m         \u001b[38;5;129;01mand\u001b[39;00m \u001b[38;5;28many\u001b[39m(\u001b[38;5;28misinstance\u001b[39m(x, \u001b[38;5;28mslice\u001b[39m) \u001b[38;5;28;01mfor\u001b[39;00m x \u001b[38;5;129;01min\u001b[39;00m casted_key)\n\u001b[0;32m   3810\u001b[0m     ):\n\u001b[0;32m   3811\u001b[0m         \u001b[38;5;28;01mraise\u001b[39;00m InvalidIndexError(key)\n\u001b[1;32m-> 3812\u001b[0m     \u001b[38;5;28;01mraise\u001b[39;00m \u001b[38;5;167;01mKeyError\u001b[39;00m(key) \u001b[38;5;28;01mfrom\u001b[39;00m \u001b[38;5;21;01merr\u001b[39;00m\n\u001b[0;32m   3813\u001b[0m \u001b[38;5;28;01mexcept\u001b[39;00m \u001b[38;5;167;01mTypeError\u001b[39;00m:\n\u001b[0;32m   3814\u001b[0m     \u001b[38;5;66;03m# If we have a listlike key, _check_indexing_error will raise\u001b[39;00m\n\u001b[0;32m   3815\u001b[0m     \u001b[38;5;66;03m#  InvalidIndexError. Otherwise we fall through and re-raise\u001b[39;00m\n\u001b[0;32m   3816\u001b[0m     \u001b[38;5;66;03m#  the TypeError.\u001b[39;00m\n\u001b[0;32m   3817\u001b[0m     \u001b[38;5;28mself\u001b[39m\u001b[38;5;241m.\u001b[39m_check_indexing_error(key)\n",
      "\u001b[1;31mKeyError\u001b[0m: 'salary_expectation'"
     ]
    }
   ],
   "source": [
    "# Example prediction\n",
    "sample_talent = talent_df.iloc[0:50]\n",
    "sample_job = job_df.iloc[0:50]\n",
    "label, score = await ranker.predict(sample_talent, sample_job)\n",
    "logger.info(f\"Predicted label: {label}, score: {score}\")"
   ]
  },
  {
   "cell_type": "code",
   "execution_count": null,
   "metadata": {},
   "outputs": [],
   "source": []
  }
 ],
 "metadata": {
  "kernelspec": {
   "display_name": "srb_rec",
   "language": "python",
   "name": "python3"
  },
  "language_info": {
   "codemirror_mode": {
    "name": "ipython",
    "version": 3
   },
   "file_extension": ".py",
   "mimetype": "text/x-python",
   "name": "python",
   "nbconvert_exporter": "python",
   "pygments_lexer": "ipython3",
   "version": "3.10.9"
  }
 },
 "nbformat": 4,
 "nbformat_minor": 2
}
