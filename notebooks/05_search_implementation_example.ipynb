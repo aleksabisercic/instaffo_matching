{
 "cells": [
  {
   "cell_type": "code",
   "execution_count": null,
   "metadata": {},
   "outputs": [],
   "source": [
    "!pip install -e .."
   ]
  },
  {
   "cell_type": "code",
   "execution_count": null,
   "metadata": {},
   "outputs": [],
   "source": [
    "import json\n",
    "\n",
    "from instaffo_matching.utils.logging import setup_logger\n",
    "from instaffo_matching.data.loader import load_data, get_matching_dataframes\n",
    "from instaffo_matching.data.preprocessor import standardize_data\n",
    "from instaffo_matching.search.search import Search\n",
    "\n",
    "\n",
    "logger = setup_logger()"
   ]
  },
  {
   "cell_type": "markdown",
   "metadata": {},
   "source": [
    "## Quick Start"
   ]
  },
  {
   "cell_type": "code",
   "execution_count": null,
   "metadata": {},
   "outputs": [],
   "source": [
    "# Initialize the Search class\n",
    "search = Search()\n",
    "\n",
    "# Define the talent's profile\n",
    "talent = {\n",
    "    \"degree\": \"bachelor\",\n",
    "    \"job_roles\": [\"frontend-developer\", \"backend-developer\"],\n",
    "    \"languages\": [\n",
    "        {\"rating\": \"C2\", \"title\": \"German\"},\n",
    "        {\"rating\": \"C2\", \"title\": \"English\"},\n",
    "        {\"rating\": \"B2\", \"title\": \"French\"}\n",
    "    ],\n",
    "    \"salary_expectation\": 48000,\n",
    "    \"seniority\": \"junior\"\n",
    "}\n",
    "\n",
    "# Define the job's requirements\n",
    "job = {\n",
    "    \"job_roles\": [\"frontend-developer\"],\n",
    "    \"languages\": [\n",
    "        {\"title\": \"German\", \"rating\": \"C1\", \"must_have\": True},\n",
    "        {\"title\": \"English\", \"rating\": \"B2\", \"must_have\": True}\n",
    "    ],\n",
    "    \"max_salary\": 70000,\n",
    "    \"min_degree\": \"none\",\n",
    "    \"seniorities\": [\"junior\", \"midlevel\"]\n",
    "}\n",
    "\n",
    "# Perform the matching process\n",
    "result = search.match(talent, job)\n",
    "\n",
    "# Print the match results\n",
    "print(f\"Match Result: {result['label']}\")\n",
    "print(f\"Match Score: {result['score']:.2f}\")"
   ]
  },
  {
   "cell_type": "markdown",
   "metadata": {},
   "source": [
    "## More detiled example"
   ]
  },
  {
   "cell_type": "code",
   "execution_count": 2,
   "metadata": {},
   "outputs": [],
   "source": [
    "data = load_data(\"../data/data.json\")\n",
    "talent_df, job_df, labels_df = get_matching_dataframes(data=data)"
   ]
  },
  {
   "cell_type": "code",
   "execution_count": 3,
   "metadata": {},
   "outputs": [
    {
     "name": "stdout",
     "output_type": "stream",
     "text": [
      "2024-08-03 20:12:31 INFO [ranker.py:106]: Loaded model and feature engineer from ../models_artifacts/model_03_08_2024.joblib\n",
      "2024-08-03 20:12:31 INFO [ranker.py:91]: Initialized GradientBoostingStrategy model and FeatureEngineer.\n",
      "{\n",
      "    \"talent\": {\n",
      "        \"degree\": \"bachelor\",\n",
      "        \"job_roles\": [\n",
      "            \"frontend-developer\",\n",
      "            \"backend-developer\",\n",
      "            \"full-stack-developer\",\n",
      "            \"java-developer\",\n",
      "            \"mobile-developer\"\n",
      "        ],\n",
      "        \"languages\": [\n",
      "            {\n",
      "                \"rating\": \"C2\",\n",
      "                \"title\": \"German\"\n",
      "            },\n",
      "            {\n",
      "                \"rating\": \"C2\",\n",
      "                \"title\": \"English\"\n",
      "            },\n",
      "            {\n",
      "                \"rating\": \"B2\",\n",
      "                \"title\": \"French\"\n",
      "            },\n",
      "            {\n",
      "                \"rating\": \"A2\",\n",
      "                \"title\": \"Turkish\"\n",
      "            }\n",
      "        ],\n",
      "        \"salary_expectation\": 48000,\n",
      "        \"seniority\": \"junior\"\n",
      "    },\n",
      "    \"job\": {\n",
      "        \"job_roles\": [\n",
      "            \"frontend-developer\"\n",
      "        ],\n",
      "        \"languages\": [\n",
      "            {\n",
      "                \"title\": \"German\",\n",
      "                \"rating\": \"C1\",\n",
      "                \"must_have\": true\n",
      "            },\n",
      "            {\n",
      "                \"title\": \"English\",\n",
      "                \"rating\": \"B2\",\n",
      "                \"must_have\": true\n",
      "            }\n",
      "        ],\n",
      "        \"max_salary\": 70000,\n",
      "        \"min_degree\": \"none\",\n",
      "        \"seniorities\": [\n",
      "            \"junior\",\n",
      "            \"midlevel\"\n",
      "        ]\n",
      "    },\n",
      "    \"label\": true,\n",
      "    \"score\": 0.9949852427113618\n",
      "}\n"
     ]
    }
   ],
   "source": [
    "search = Search('../models_artifacts/model_03_08_2024.joblib')\n",
    "\n",
    "# test the match function\n",
    "result = search.match(talent=talent_df.iloc[0].to_dict(), job=job_df.iloc[0].to_dict())\n",
    "print(json.dumps(result, indent=4))"
   ]
  },
  {
   "cell_type": "code",
   "execution_count": 4,
   "metadata": {},
   "outputs": [
    {
     "name": "stdout",
     "output_type": "stream",
     "text": [
      "match_bulk took 25.0180242061615 seconds\n"
     ]
    }
   ],
   "source": [
    "import time \n",
    "t1 = time.time()\n",
    "# test the match_bulk function\n",
    "results = await search.match_bulk(talent_df.head(100).to_dict(orient='records'), \n",
    "                                job_df.head(100).to_dict(orient='records'))\n",
    "t2 = time.time()\n",
    "print(f\"match_bulk took {t2-t1} seconds\")"
   ]
  },
  {
   "cell_type": "markdown",
   "metadata": {},
   "source": [
    "### Ensure Output Conforms to Requirements"
   ]
  },
  {
   "cell_type": "code",
   "execution_count": 5,
   "metadata": {},
   "outputs": [
    {
     "name": "stdout",
     "output_type": "stream",
     "text": [
      "True\n"
     ]
    }
   ],
   "source": [
    "def matches_criteria(results):\n",
    "    \"\"\"\n",
    "    Checks if the given results list matches the specified criteria.\n",
    "\n",
    "    The function performs the following checks:\n",
    "    1. Ensures `results` is a list.\n",
    "    2. Ensures each item in the list is a dictionary.\n",
    "    3. Ensures each dictionary contains the required keys: 'talent', 'job', 'label', and 'score'.\n",
    "    4. Ensures the 'talent' dictionary contains the keys: 'degree', 'job_roles', 'languages', 'salary_expectation', and 'seniority'.\n",
    "    5. Ensures the 'job' dictionary contains the keys: 'job_roles', 'languages', 'max_salary', 'min_degree', and 'seniorities'.\n",
    "    6. Ensures the values of these keys match the expected types and constraints.\n",
    "    7. Ensures the list is sorted in descending order by 'score'.\n",
    "\n",
    "    Args:\n",
    "        results (list): The list of results to be checked.\n",
    "\n",
    "    Returns:\n",
    "        bool: True if the results match the criteria, False otherwise.\n",
    "    \"\"\"\n",
    "    if not isinstance(results, list):\n",
    "        return False\n",
    "    \n",
    "    previous_score = float('inf')\n",
    "    \n",
    "    for item in results:\n",
    "        if not isinstance(item, dict):\n",
    "            return False\n",
    "        \n",
    "        # Check for required keys\n",
    "        required_keys = {'talent', 'job', 'label', 'score'}\n",
    "        if not required_keys.issubset(item.keys()):\n",
    "            return False\n",
    "        \n",
    "        # Check talent structure\n",
    "        talent = item['talent']\n",
    "        talent_keys = {'degree', 'job_roles', 'languages', 'salary_expectation', 'seniority'}\n",
    "        if not talent_keys.issubset(talent.keys()):\n",
    "            return False\n",
    "        \n",
    "        # Check job structure\n",
    "        job = item['job']\n",
    "        job_keys = {'job_roles', 'languages', 'max_salary', 'min_degree', 'seniorities'}\n",
    "        if not job_keys.issubset(job.keys()):\n",
    "            return False\n",
    "        \n",
    "        # Check types and constraints\n",
    "        if not isinstance(talent['degree'], str):\n",
    "            return False\n",
    "        if not isinstance(talent['job_roles'], list):\n",
    "            return False\n",
    "        if not isinstance(talent['languages'], list):\n",
    "            return False\n",
    "        if not isinstance(talent['salary_expectation'], int):\n",
    "            return False\n",
    "        if not isinstance(talent['seniority'], str):\n",
    "            return False\n",
    "        \n",
    "        if not isinstance(job['job_roles'], list):\n",
    "            return False\n",
    "        if not isinstance(job['languages'], list):\n",
    "            return False\n",
    "        if not isinstance(job['max_salary'], int):\n",
    "            return False\n",
    "        if not isinstance(job['min_degree'], str):\n",
    "            return False\n",
    "        if not isinstance(job['seniorities'], list):\n",
    "            return False\n",
    "        \n",
    "        if not isinstance(item['label'], bool):\n",
    "            return False\n",
    "        if not isinstance(item['score'], float):\n",
    "            return False\n",
    "        \n",
    "        # Check if the list is sorted in descending order by score\n",
    "        if item['score'] > previous_score:\n",
    "            return False\n",
    "        previous_score = item['score']\n",
    "    \n",
    "    return True\n",
    "\n",
    "# Example usage\n",
    "print(matches_criteria(results))"
   ]
  },
  {
   "cell_type": "code",
   "execution_count": 11,
   "metadata": {},
   "outputs": [
    {
     "name": "stdout",
     "output_type": "stream",
     "text": [
      "Match Result: True\n",
      "Match Score: 0.99\n"
     ]
    }
   ],
   "source": [
    "from instaffo_matching.search.search import Search\n",
    "\n",
    "# Initialize the Search class\n",
    "search = Search()\n",
    "\n",
    "# Define the talent's profile\n",
    "talent = {\n",
    "    \"degree\": \"bachelor\",\n",
    "    \"job_roles\": [\"frontend-developer\", \"backend-developer\"],\n",
    "    \"languages\": [\n",
    "        {\"rating\": \"C2\", \"title\": \"German\"},\n",
    "        {\"rating\": \"C2\", \"title\": \"English\"},\n",
    "        {\"rating\": \"B2\", \"title\": \"French\"}\n",
    "    ],\n",
    "    \"salary_expectation\": 48000,\n",
    "    \"seniority\": \"junior\"\n",
    "}\n",
    "\n",
    "# Define the job's requirements\n",
    "job = {\n",
    "    \"job_roles\": [\"frontend-developer\"],\n",
    "    \"languages\": [\n",
    "        {\"title\": \"German\", \"rating\": \"C1\", \"must_have\": True},\n",
    "        {\"title\": \"English\", \"rating\": \"B2\", \"must_have\": True}\n",
    "    ],\n",
    "    \"max_salary\": 70000,\n",
    "    \"min_degree\": \"none\",\n",
    "    \"seniorities\": [\"junior\", \"midlevel\"]\n",
    "}\n",
    "\n",
    "# Perform the matching process\n",
    "result = search.match(talent, job)\n",
    "\n",
    "# Print the match results\n",
    "print(f\"Match Result: {result['label']}\")\n",
    "print(f\"Match Score: {result['score']:.2f}\")"
   ]
  },
  {
   "cell_type": "code",
   "execution_count": null,
   "metadata": {},
   "outputs": [],
   "source": []
  }
 ],
 "metadata": {
  "kernelspec": {
   "display_name": "srb_rec",
   "language": "python",
   "name": "python3"
  },
  "language_info": {
   "codemirror_mode": {
    "name": "ipython",
    "version": 3
   },
   "file_extension": ".py",
   "mimetype": "text/x-python",
   "name": "python",
   "nbconvert_exporter": "python",
   "pygments_lexer": "ipython3",
   "version": "3.10.9"
  }
 },
 "nbformat": 4,
 "nbformat_minor": 2
}
